{
 "cells": [
  {
   "cell_type": "markdown",
   "id": "bd9a1e48-3f92-47e4-8084-8bec11c859ef",
   "metadata": {},
   "source": [
    "# Worksheet 1 \n",
    "\n",
    "## Girls in Data Science Camp"
   ]
  },
  {
   "cell_type": "markdown",
   "id": "1c9ffa7b-341c-4c2a-a0b3-7c73f0acd62f",
   "metadata": {},
   "source": [
    "In this worksheet, we will be using a data set obtained from the Spotify Web API the top 50 tracks from 2023 (more details can be found [here](https://www.kaggle.com/datasets/yukawithdata/spotify-top-tracks-2023)).\n",
    "\n",
    "<img src=https://storage.googleapis.com/pr-newsroom-wp/1/2018/11/Spotify_Logo_RGB_Green.png width=\"500\">"
   ]
  },
  {
   "cell_type": "markdown",
   "id": "7515a16c-c928-4ca8-8426-3d22f346b90f",
   "metadata": {
    "tags": []
   },
   "source": [
    "I have reduced the data set to include the following variables:\n",
    "\n",
    "- artist_name: the artist name\n",
    "- track_name: the title of the track\n",
    "- album_release_date: The date when the track was released\n",
    "- genres: A list of genres associated with the track's artist(s)\n",
    "- danceability: A measure from 0.0 to 1.0 indicating how suitable a track is for dancing based on a combination of musical elements\n",
    "- energy: A measure from 0.0 to 1.0 representing a perceptual measure of intensity and activity\n",
    "- loudness: The overall loudness of a track in decibels (dB)\n",
    "- key: The key the track is in. Integers map to pitches using standard Pitch Class notation.\n",
    "- tempo: The overall estimated tempo of a track in beats per minute (BPM)\n",
    "- duration_ms: The length of the track in milliseconds\n",
    "- time_signature: An estimated overall time signature of a track\n",
    "- popularity: A score between 0 and 100, with 100 being the most popular\n",
    "\n",
    "I also included a new variable called `pop` which is yes if the song falls into any type of pop genre and no otherwise. "
   ]
  },
  {
   "cell_type": "code",
   "execution_count": 1,
   "id": "65c199f4-94a7-4d75-926d-486c2f74d374",
   "metadata": {
    "tags": []
   },
   "outputs": [
    {
     "name": "stderr",
     "output_type": "stream",
     "text": [
      "── \u001b[1mAttaching core tidyverse packages\u001b[22m ──────────────────────── tidyverse 2.0.0 ──\n",
      "\u001b[32m✔\u001b[39m \u001b[34mdplyr    \u001b[39m 1.1.4     \u001b[32m✔\u001b[39m \u001b[34mreadr    \u001b[39m 2.1.5\n",
      "\u001b[32m✔\u001b[39m \u001b[34mforcats  \u001b[39m 1.0.0     \u001b[32m✔\u001b[39m \u001b[34mstringr  \u001b[39m 1.5.1\n",
      "\u001b[32m✔\u001b[39m \u001b[34mggplot2  \u001b[39m 3.5.1     \u001b[32m✔\u001b[39m \u001b[34mtibble   \u001b[39m 3.2.1\n",
      "\u001b[32m✔\u001b[39m \u001b[34mlubridate\u001b[39m 1.9.3     \u001b[32m✔\u001b[39m \u001b[34mtidyr    \u001b[39m 1.3.1\n",
      "\u001b[32m✔\u001b[39m \u001b[34mpurrr    \u001b[39m 1.0.2     \n",
      "── \u001b[1mConflicts\u001b[22m ────────────────────────────────────────── tidyverse_conflicts() ──\n",
      "\u001b[31m✖\u001b[39m \u001b[34mdplyr\u001b[39m::\u001b[32mfilter()\u001b[39m masks \u001b[34mstats\u001b[39m::filter()\n",
      "\u001b[31m✖\u001b[39m \u001b[34mdplyr\u001b[39m::\u001b[32mlag()\u001b[39m    masks \u001b[34mstats\u001b[39m::lag()\n",
      "\u001b[36mℹ\u001b[39m Use the conflicted package (\u001b[3m\u001b[34m<http://conflicted.r-lib.org/>\u001b[39m\u001b[23m) to force all conflicts to become errors\n"
     ]
    }
   ],
   "source": [
    "# Load libraries\n",
    "\n",
    "library(tidyverse)"
   ]
  },
  {
   "cell_type": "code",
   "execution_count": 2,
   "id": "e9d6df1a-1d0c-43b9-b1a1-b9476386b63c",
   "metadata": {
    "tags": []
   },
   "outputs": [
    {
     "name": "stderr",
     "output_type": "stream",
     "text": [
      "\u001b[1mRows: \u001b[22m\u001b[34m50\u001b[39m \u001b[1mColumns: \u001b[22m\u001b[34m12\u001b[39m\n",
      "\u001b[36m──\u001b[39m \u001b[1mColumn specification\u001b[22m \u001b[36m────────────────────────────────────────────────────────\u001b[39m\n",
      "\u001b[1mDelimiter:\u001b[22m \",\"\n",
      "\u001b[31mchr\u001b[39m  (3): artist_name, track_name, genres\n",
      "\u001b[32mdbl\u001b[39m  (8): danceability, energy, loudness, key, tempo, duration_ms, time_sign...\n",
      "\u001b[34mdate\u001b[39m (1): album_release_date\n",
      "\n",
      "\u001b[36mℹ\u001b[39m Use `spec()` to retrieve the full column specification for this data.\n",
      "\u001b[36mℹ\u001b[39m Specify the column types or set `show_col_types = FALSE` to quiet this message.\n"
     ]
    }
   ],
   "source": [
    "# Read in the data\n",
    "\n",
    "spotify <- read_csv(\"data/spotify_top_50_2023.csv\")"
   ]
  },
  {
   "cell_type": "code",
   "execution_count": 3,
   "id": "59afa589-29f3-438e-a38f-44c84f7fd4a0",
   "metadata": {
    "tags": []
   },
   "outputs": [],
   "source": [
    "spotify <- spotify |> \n",
    "                mutate(pop = if_else(str_detect(genres, \"pop\"), \"yes\", \"no\"))"
   ]
  },
  {
   "cell_type": "markdown",
   "id": "f780e659-49c9-454c-abe6-bf85c84498ec",
   "metadata": {},
   "source": [
    "# Exercise 1: Wrangling "
   ]
  },
  {
   "cell_type": "markdown",
   "id": "65de6b9d-9c59-4a47-997b-4d458c61fa46",
   "metadata": {},
   "source": [
    "## 1.1 \n",
    "\n",
    "Is the spotify data tidy? Why or why not?"
   ]
  },
  {
   "cell_type": "markdown",
   "id": "b1a2c491-0e16-4699-81af-d11be23ea79d",
   "metadata": {},
   "source": [
    "> **YOUR ANSWER HERE**"
   ]
  },
  {
   "cell_type": "markdown",
   "id": "107846dc-878a-4bdd-a61e-0cf24c5f6d8a",
   "metadata": {},
   "source": [
    "## 1.2 \n",
    "\n",
    "Using code, what are the dimensions of this data set (i.e., the number of rows and columns)?"
   ]
  },
  {
   "cell_type": "code",
   "execution_count": 4,
   "id": "8f6f787c-1c82-4c2f-a1c5-6d4cbe3585a8",
   "metadata": {
    "tags": []
   },
   "outputs": [],
   "source": [
    "### YOUR CODE HERE"
   ]
  },
  {
   "cell_type": "markdown",
   "id": "29f26899-059b-4ea2-a464-481650c828cf",
   "metadata": {
    "tags": []
   },
   "source": [
    "## 1.3 \n",
    "\n",
    "Without examining the entire data set, which artist and track is in the 35th row of the data set? Note that your code should return only the required variables (`artist_name` and `track_name`). "
   ]
  },
  {
   "cell_type": "code",
   "execution_count": 5,
   "id": "6bc26602-22d7-457c-9fdf-0937de3eff23",
   "metadata": {
    "tags": []
   },
   "outputs": [],
   "source": [
    "### YOUR CODE HERE"
   ]
  },
  {
   "cell_type": "markdown",
   "id": "ba9811eb-efa6-43d1-b945-a0d57ab4b9d3",
   "metadata": {},
   "source": [
    "## 1.4 \n",
    "\n",
    "Create a subset of the data that only includes tracks with a popularity score over 90. Assign this to an object called `pop_90`. How many songs have a popularity score over 90?"
   ]
  },
  {
   "cell_type": "code",
   "execution_count": 6,
   "id": "6fb06a82-5397-479f-9e45-71fe77aaa5ab",
   "metadata": {
    "tags": []
   },
   "outputs": [],
   "source": [
    "### YOUR CODE HERE"
   ]
  },
  {
   "cell_type": "markdown",
   "id": "c8077f5a-c709-4abd-ab9f-6c1ab1d4dacb",
   "metadata": {},
   "source": [
    "## 1.5\n",
    "\n",
    "Now, I want to look at pop songs that have a danceability score over 0.7. Create a subset of the `spotify` data set to achieve this task, ordered from highest to lowest danceability. "
   ]
  },
  {
   "cell_type": "code",
   "execution_count": 7,
   "id": "59c708d9-fa38-40fa-af2f-ef21932bcb79",
   "metadata": {
    "tags": []
   },
   "outputs": [],
   "source": [
    "### YOUR CODE HERE"
   ]
  },
  {
   "cell_type": "markdown",
   "id": "cccc86e0-bd7a-42e5-baa4-5416b4ecc2f6",
   "metadata": {},
   "source": [
    "## 1.6\n",
    "\n",
    "What is the average danceability score for Taylor Swift songs? "
   ]
  },
  {
   "cell_type": "code",
   "execution_count": 8,
   "id": "a7f354bc-4bc9-4ff4-9344-ef5883db9d6d",
   "metadata": {
    "tags": []
   },
   "outputs": [],
   "source": [
    "### YOUR CODE HERE"
   ]
  },
  {
   "cell_type": "markdown",
   "id": "0d86f4d2-e438-4881-bb88-013545cdc70d",
   "metadata": {},
   "source": [
    "## 1.7\n",
    "\n",
    "Are Taylor Swfit's songs more danceable than The Weeknd's? *Hint: use `group_by`*."
   ]
  },
  {
   "cell_type": "code",
   "execution_count": 9,
   "id": "d908dba8-ebc3-41a0-a63b-7c063dc74bc0",
   "metadata": {},
   "outputs": [],
   "source": [
    "### YOUR CODE HERE"
   ]
  },
  {
   "cell_type": "markdown",
   "id": "988cbbdc-aa7c-4256-9e32-81753bfbfe92",
   "metadata": {},
   "source": [
    "## 1.8 \n",
    "\n",
    "Are pop songs more popular than other genres? Compare the average popularity scores between pop songs vs. other genres."
   ]
  },
  {
   "cell_type": "code",
   "execution_count": 10,
   "id": "b1a83c49-c544-4e3c-8f3b-ce4ba17ec721",
   "metadata": {},
   "outputs": [],
   "source": [
    "### YOUR CODE HERE"
   ]
  },
  {
   "cell_type": "markdown",
   "id": "ff99aee7-1a67-4549-8fee-957407f9a5a8",
   "metadata": {
    "tags": []
   },
   "source": [
    "> **YOUR ANSWER HERE**"
   ]
  },
  {
   "cell_type": "markdown",
   "id": "da8ea5ce-a35c-4684-91b3-d6771b824188",
   "metadata": {
    "tags": []
   },
   "source": [
    "# Exercise 2: Data Visualization"
   ]
  },
  {
   "cell_type": "markdown",
   "id": "71af7d3a-a3e4-460f-b97d-8063e996676c",
   "metadata": {},
   "source": [
    "## 2.1 "
   ]
  },
  {
   "cell_type": "markdown",
   "id": "b58e4405-8687-49c9-96b9-73f4fba948f7",
   "metadata": {},
   "source": [
    "Using a histogram, visualize the distribution of popularity scores for Spotify's top 50 tracks from 2023. Describe what you see. "
   ]
  },
  {
   "cell_type": "code",
   "execution_count": 11,
   "id": "efc8a4f0-342e-4939-b2f4-db782fccc035",
   "metadata": {
    "tags": []
   },
   "outputs": [],
   "source": [
    "### YOUR CODE HERE"
   ]
  },
  {
   "cell_type": "markdown",
   "id": "ab3052f8-35d9-456a-86a9-047eca5add62",
   "metadata": {},
   "source": [
    "> **YOUR ANSWER HERE**"
   ]
  },
  {
   "cell_type": "markdown",
   "id": "ba48d220-0fe4-4a0b-be0b-1ba8bf66438b",
   "metadata": {
    "tags": []
   },
   "source": [
    "## 2.2 \n",
    "\n",
    "Are pop songs more popular than other genres? You answered this in question 1.8 using summary statistics, but now use histograms to visualize the popularity groups for the two groups on the same graph. Do you notice anything different?\n",
    "\n",
    "> Hint: use `facet_grid`"
   ]
  },
  {
   "cell_type": "code",
   "execution_count": 12,
   "id": "2773fa0c-51cb-4bc1-849e-83320bfbd09a",
   "metadata": {},
   "outputs": [],
   "source": [
    "### YOUR CODE HERE"
   ]
  },
  {
   "cell_type": "markdown",
   "id": "99ef31aa-8479-4b48-8232-4d7328fa3821",
   "metadata": {},
   "source": [
    "> **YOUR ANSWER HERE**"
   ]
  },
  {
   "cell_type": "markdown",
   "id": "1850ca2d-3cf8-4cf0-a81b-1ae7de0dedb4",
   "metadata": {},
   "source": [
    "## 2.3 \n",
    "\n",
    "Create a barplot comparing the counts of pop songs vs. non-pop songs."
   ]
  },
  {
   "cell_type": "code",
   "execution_count": 13,
   "id": "764f6184-452f-4314-af2c-230d60e13dcd",
   "metadata": {
    "tags": []
   },
   "outputs": [],
   "source": [
    "### YOUR CODE HERE"
   ]
  },
  {
   "cell_type": "markdown",
   "id": "54eaeed8-5eaf-408a-814a-0ac4a71d1d5d",
   "metadata": {},
   "source": [
    "## 2.4 \n",
    "\n",
    "Is there a relationship between how loud a song is in decibels and its popularity? Visualize the relationship between loudness and popularity with a scatterplot, plotting loudness on the $y$-axis and popularity on the $x$-axis. What do you notice?"
   ]
  },
  {
   "cell_type": "code",
   "execution_count": 14,
   "id": "66c26b07-b891-43c8-bf02-5aa980d10c79",
   "metadata": {},
   "outputs": [],
   "source": [
    "### YOUR CODE HERE"
   ]
  },
  {
   "cell_type": "markdown",
   "id": "52bb2b77-a475-4afe-955c-6accda33fd2c",
   "metadata": {
    "tags": []
   },
   "source": [
    "> **YOUR ANSWER HERE**"
   ]
  },
  {
   "cell_type": "markdown",
   "id": "36442280-de7f-4d5a-8ae7-b52ebb4969f5",
   "metadata": {},
   "source": [
    "## 2.5 (Challenge)\n",
    "\n",
    "Find the song that has the highest popularity score, but a relatively moderate loudness. Highlight the point on the graph and label it. \n",
    "\n",
    "> Hint: Use the `annotate` function to highlight a point"
   ]
  },
  {
   "cell_type": "code",
   "execution_count": 15,
   "id": "63055650-57e3-43f4-b2bb-700df8c16b9b",
   "metadata": {
    "tags": []
   },
   "outputs": [],
   "source": [
    "### YOUR CODE HERE"
   ]
  },
  {
   "cell_type": "markdown",
   "id": "c0fa067c-fed4-4629-898c-f8a27b8689b2",
   "metadata": {},
   "source": [
    "## 2.6 (Challenge)\n",
    "\n",
    "List the artists who have more than one track in the top 50. For each artist, show the number of tracks and their average popularity score."
   ]
  },
  {
   "cell_type": "code",
   "execution_count": null,
   "id": "360b620a-8cb9-4450-a616-00c0a10a2ae0",
   "metadata": {},
   "outputs": [],
   "source": [
    "### YOUR CODE HERE"
   ]
  }
 ],
 "metadata": {
  "kernelspec": {
   "display_name": "R",
   "language": "R",
   "name": "ir"
  },
  "language_info": {
   "codemirror_mode": "r",
   "file_extension": ".r",
   "mimetype": "text/x-r-source",
   "name": "R",
   "pygments_lexer": "r",
   "version": "4.4.1"
  }
 },
 "nbformat": 4,
 "nbformat_minor": 5
}
