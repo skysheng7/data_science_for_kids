{
 "cells": [
  {
   "cell_type": "markdown",
   "id": "1f103151",
   "metadata": {},
   "source": [
    "# 🔮 Day 3 Spell Solutions\n",
    "\n",
    "This file contains solutions to all Day 3 spells and their practice challenges.\n",
    "\n",
    "## Spell 1: Loading Data Magic\n",
    "\n",
    "### Complete Solution Code:\n"
   ]
  },
  {
   "cell_type": "code",
   "execution_count": null,
   "id": "13474d9b",
   "metadata": {
    "language": "R"
   },
   "outputs": [],
   "source": [
    "library(readr)\n",
    "library(dplyr)\n",
    "\n",
    "# Load the creature data - using practice data first\n",
    "creature_data <- read.csv(\"datasets/creature_of_sky.csv\")\n",
    "# For later: creature_data <- read.csv(\"datasets/creatures.csv\")\n",
    "print(\"Data loaded successfully!\")\n",
    "\n",
    "# Explore the data\n",
    "head(creature_data)\n",
    "nrow(creature_data)\n",
    "ncol(creature_data)\n",
    "names(creature_data)"
   ]
  },
  {
   "cell_type": "markdown",
   "id": "c96696d9",
   "metadata": {},
   "source": [
    "\n",
    "\n",
    "### Expected Output:\n"
   ]
  },
  {
   "cell_type": "code",
   "execution_count": null,
   "id": "01fe8f05",
   "metadata": {
    "language": "R"
   },
   "outputs": [],
   "source": [
    "# For head(creature_data) using creature_of_sky.csv:\n",
    "  Timestamp           What.is.your.wizard.name What.is.your.magical.creature.s.name\n",
    "1 2025/08/06 3:23:30 PM MDT                             sky                            alita\n",
    "2 2025/08/06 3:36:28 PM MDT                             Sky                            stark\n",
    "3 2025/08/06 3:37:56 PM MDT                             SKY                        oreo king\n",
    "4 2025/08/06 3:39:57 PM MDT                     i am a robot         i am not a good creature\n",
    "5 2025/08/06 3:41:53 PM MDT               HELLO who are you?        I AM JUST A CREATURE\n",
    "\n",
    "# For nrow(creature_data):\n",
    "[1] 5\n",
    "\n",
    "# For ncol(creature_data):\n",
    "[1] 9\n",
    "\n",
    "# For names(creature_data):\n",
    "[1] \"Timestamp\"                                                                \n",
    "[2] \"What.is.your.wizard.name.\"                                               \n",
    "[3] \"What.is.your.magical.creature.s.name.\"                                  \n",
    "[4] \"What.type.of.creature.is.it.\"                                           \n",
    "[5] \"How.old.is.your.creature..please.enter.number.only..\"                   \n",
    "[6] \"On.a.scale.of.1.10..how.powerful.is.its.magic.\"                        \n",
    "[7] \"Does.your.creature.have.wings.\"                                         \n",
    "[8] \"What.is.its.primary.magical.element.\"                                   \n",
    "[9] \"What.superpower.does.this.creature.has.\""
   ]
  },
  {
   "cell_type": "markdown",
   "id": "652b5d85",
   "metadata": {},
   "source": [
    "\n",
    "\n",
    "---\n",
    "\n",
    "## Spell 2: Select and Filter Magic\n",
    "\n",
    "### Challenge Solutions:\n",
    "\n",
    "**Challenge 1: Select only creature name and type**\n"
   ]
  },
  {
   "cell_type": "code",
   "execution_count": null,
   "id": "14741c3c",
   "metadata": {
    "language": "R"
   },
   "outputs": [],
   "source": [
    "# creature_data <- read.csv(\"datasets/creature_of_sky.csv\")  # Practice data\n",
    "creature_data <- read.csv(\"datasets/creatures.csv\")  # Your real creature data\n",
    "\n",
    "creature_basics <- select(creature_data, creature_name, creature_type)\n",
    "print(creature_basics)"
   ]
  },
  {
   "cell_type": "markdown",
   "id": "72c442f8",
   "metadata": {},
   "source": [
    "\n",
    "\n",
    "**Challenge 2: Filter for creatures with high magic power (8+)**\n"
   ]
  },
  {
   "cell_type": "code",
   "execution_count": null,
   "id": "8e175f02",
   "metadata": {
    "language": "R"
   },
   "outputs": [],
   "source": [
    "powerful_creatures <- filter(creature_data, magic_power >= 8)\n",
    "print(powerful_creatures)"
   ]
  },
  {
   "cell_type": "markdown",
   "id": "ad6ad5d7",
   "metadata": {},
   "source": [
    "\n",
    "\n",
    "**Challenge 3: Find dragons and show only their names**\n"
   ]
  },
  {
   "cell_type": "code",
   "execution_count": null,
   "id": "5db07d5a",
   "metadata": {
    "language": "R"
   },
   "outputs": [],
   "source": [
    "dragon_names <- creature_data %>%\n",
    "  filter(creature_type == \"Dragon\") %>%\n",
    "  select(creature_name)\n",
    "print(dragon_names)"
   ]
  },
  {
   "cell_type": "markdown",
   "id": "8bcf4d08",
   "metadata": {},
   "source": [
    "\n",
    "\n",
    "---\n",
    "\n",
    "## Spell 3: Slice and Arrange Magic\n",
    "\n",
    "### Challenge Solutions:\n",
    "\n",
    "**Challenge 1: Get the first 3 creatures**\n"
   ]
  },
  {
   "cell_type": "code",
   "execution_count": null,
   "id": "d6e640e5",
   "metadata": {
    "language": "R"
   },
   "outputs": [],
   "source": [
    "first_three <- slice(creature_data, 1:3)\n",
    "print(first_three)"
   ]
  },
  {
   "cell_type": "markdown",
   "id": "4fa1ae54",
   "metadata": {},
   "source": [
    "\n",
    "\n",
    "**Challenge 2: Sort creatures by age (youngest first)**\n"
   ]
  },
  {
   "cell_type": "code",
   "execution_count": null,
   "id": "6d87d11e",
   "metadata": {
    "language": "R"
   },
   "outputs": [],
   "source": [
    "creatures_by_age <- arrange(creature_data, creature_age)\n",
    "print(creatures_by_age)"
   ]
  },
  {
   "cell_type": "markdown",
   "id": "ba0150e3",
   "metadata": {},
   "source": [
    "\n",
    "\n",
    "**Challenge 3: Find the top 5 most powerful creatures**\n"
   ]
  },
  {
   "cell_type": "code",
   "execution_count": null,
   "id": "ee729521",
   "metadata": {
    "language": "R"
   },
   "outputs": [],
   "source": [
    "top_powerful <- creature_data %>%\n",
    "  arrange(desc(magic_power)) %>%\n",
    "  slice(1:5)\n",
    "print(top_powerful)"
   ]
  },
  {
   "cell_type": "markdown",
   "id": "9be9279b",
   "metadata": {},
   "source": [
    "\n",
    "\n",
    "**Challenge 4: Sort by creature type, then by magic power (highest first)**\n"
   ]
  },
  {
   "cell_type": "code",
   "execution_count": null,
   "id": "e50e52a0",
   "metadata": {
    "language": "R"
   },
   "outputs": [],
   "source": [
    "creatures_organized <- arrange(creature_data, creature_type, desc(magic_power))\n",
    "print(creatures_organized)"
   ]
  },
  {
   "cell_type": "markdown",
   "id": "bee92d8a",
   "metadata": {},
   "source": [
    "\n",
    "\n",
    "---\n",
    "\n",
    "## Spell 4: Mutate and Group Magic\n",
    "\n",
    "### Challenge Solutions:\n",
    "\n",
    "**Challenge 1: Create power_category column**\n"
   ]
  },
  {
   "cell_type": "code",
   "execution_count": null,
   "id": "a86ff96d",
   "metadata": {
    "language": "R"
   },
   "outputs": [],
   "source": [
    "creatures_enhanced <- mutate(creature_data, \n",
    "                           power_category = ifelse(magic_power >= 8, \"Super Strong\", \n",
    "                                                 ifelse(magic_power >= 5, \"Medium\", \"Growing\")))\n",
    "print(creatures_enhanced)"
   ]
  },
  {
   "cell_type": "markdown",
   "id": "66a9bfb2",
   "metadata": {},
   "source": [
    "\n",
    "\n",
    "**Challenge 2: Group by creature_type and count**\n"
   ]
  },
  {
   "cell_type": "code",
   "execution_count": null,
   "id": "a8368a20",
   "metadata": {
    "language": "R"
   },
   "outputs": [],
   "source": [
    "creature_summary <- creature_data %>%\n",
    "  group_by(creature_type) %>%\n",
    "  summarize(count = n(),\n",
    "           avg_power = mean(magic_power))\n",
    "print(creature_summary)"
   ]
  },
  {
   "cell_type": "markdown",
   "id": "60f317c8",
   "metadata": {},
   "source": [
    "\n",
    "\n",
    "**Challenge 3: Create human_years column (creature age * 0.8)**\n"
   ]
  },
  {
   "cell_type": "code",
   "execution_count": null,
   "id": "671aff39",
   "metadata": {
    "language": "R"
   },
   "outputs": [],
   "source": [
    "creatures_with_human_age <- mutate(creature_data, \n",
    "                                  human_years = creature_age * 0.8)\n",
    "print(creatures_with_human_age)"
   ]
  },
  {
   "cell_type": "markdown",
   "id": "079965fa",
   "metadata": {},
   "source": [
    "\n",
    "\n",
    "---\n",
    "\n",
    "## Spell 5: Pipeline Magic\n",
    "\n",
    "### Challenge Solutions:\n",
    "\n",
    "**Challenge 1: Find winged creatures with high power**\n"
   ]
  },
  {
   "cell_type": "code",
   "execution_count": null,
   "id": "4c754f3d",
   "metadata": {
    "language": "R"
   },
   "outputs": [],
   "source": [
    "powerful_winged <- creature_data %>%\n",
    "  filter(has_wings == \"Yes\") %>%\n",
    "  filter(magic_power >= 7) %>%\n",
    "  select(creature_name, creature_type, magic_power) %>%\n",
    "  arrange(desc(magic_power))\n",
    "print(powerful_winged)"
   ]
  },
  {
   "cell_type": "markdown",
   "id": "5dd4e596",
   "metadata": {},
   "source": [
    "\n",
    "\n",
    "**Challenge 2: Top 3 oldest creatures of each type**\n"
   ]
  },
  {
   "cell_type": "code",
   "execution_count": null,
   "id": "62a912af",
   "metadata": {
    "language": "R"
   },
   "outputs": [],
   "source": [
    "oldest_by_type <- creature_data %>%\n",
    "  group_by(creature_type) %>%\n",
    "  arrange(desc(creature_age)) %>%\n",
    "  slice(1:3) %>%\n",
    "  select(creature_name, creature_type, creature_age)\n",
    "print(oldest_by_type)"
   ]
  },
  {
   "cell_type": "markdown",
   "id": "7baa1ea7",
   "metadata": {},
   "source": [
    "\n",
    "\n",
    "**Challenge 3: Complex pipeline - fire element creatures analysis**\n"
   ]
  },
  {
   "cell_type": "code",
   "execution_count": null,
   "id": "b7c31eb5",
   "metadata": {
    "language": "R"
   },
   "outputs": [],
   "source": [
    "fire_analysis <- creature_data %>%\n",
    "  filter(magical_element == \"fire\") %>%\n",
    "  mutate(power_level = ifelse(magic_power >= 8, \"High\", \"Medium\")) %>%\n",
    "  group_by(power_level) %>%\n",
    "  summarize(count = n()) %>%\n",
    "  arrange(desc(count))\n",
    "print(fire_analysis)"
   ]
  },
  {
   "cell_type": "markdown",
   "id": "3b9565af",
   "metadata": {},
   "source": [
    "\n",
    "\n",
    "---\n",
    "\n",
    "## Spell 6: Histogram Magic\n",
    "\n",
    "### Challenge Solutions:\n",
    "\n",
    "**Challenge 1: Create a histogram of creature ages**\n"
   ]
  },
  {
   "cell_type": "code",
   "execution_count": null,
   "id": "4586472c",
   "metadata": {
    "language": "R"
   },
   "outputs": [],
   "source": [
    "library(ggplot2)\n",
    "\n",
    "age_histogram <- ggplot(creature_data, aes(x = creature_age)) +\n",
    "  geom_histogram(bins = 5, fill = \"purple\", color = \"black\") +\n",
    "  labs(title = \"How Old Are Our Magical Creatures?\",\n",
    "       x = \"Age in Years\",\n",
    "       y = \"Number of Creatures\")\n",
    "print(age_histogram)"
   ]
  },
  {
   "cell_type": "markdown",
   "id": "5e4ec8ae",
   "metadata": {},
   "source": [
    "\n",
    "\n",
    "**Challenge 2: Histogram of magic power levels**\n"
   ]
  },
  {
   "cell_type": "code",
   "execution_count": null,
   "id": "713b747c",
   "metadata": {
    "language": "R"
   },
   "outputs": [],
   "source": [
    "power_histogram <- ggplot(creature_data, aes(x = magic_power)) +\n",
    "  geom_histogram(bins = 10, fill = \"gold\", color = \"darkred\") +\n",
    "  labs(title = \"How Powerful Are Our Creatures?\",\n",
    "       x = \"Magic Power (1-10)\",\n",
    "       y = \"Number of Creatures\")\n",
    "print(power_histogram)"
   ]
  },
  {
   "cell_type": "markdown",
   "id": "6d58d6fb",
   "metadata": {},
   "source": [
    "\n",
    "\n",
    "**Challenge 3: Histogram with different colors for winged vs non-winged**\n"
   ]
  },
  {
   "cell_type": "code",
   "execution_count": null,
   "id": "02551ea1",
   "metadata": {
    "language": "R"
   },
   "outputs": [],
   "source": [
    "wings_histogram <- ggplot(creature_data, aes(x = magic_power, fill = has_wings)) +\n",
    "  geom_histogram(bins = 8, color = \"black\", position = \"dodge\") +\n",
    "  labs(title = \"Magic Power by Wing Status\",\n",
    "       x = \"Magic Power\",\n",
    "       y = \"Number of Creatures\",\n",
    "       fill = \"Has Wings\")\n",
    "print(wings_histogram)"
   ]
  },
  {
   "cell_type": "markdown",
   "id": "33e453cf",
   "metadata": {},
   "source": [
    "\n",
    "\n",
    "---\n",
    "\n",
    "## Spell 7: Scatter Plot Magic\n",
    "\n",
    "### Challenge Solutions:\n",
    "\n",
    "**Challenge 1: Age vs Magic Power relationship**\n"
   ]
  },
  {
   "cell_type": "code",
   "execution_count": null,
   "id": "05de682b",
   "metadata": {
    "language": "R"
   },
   "outputs": [],
   "source": [
    "age_power_scatter <- ggplot(creature_data, aes(x = creature_age, y = magic_power)) +\n",
    "  geom_point(size = 4, color = \"blue\") +\n",
    "  labs(title = \"Do Older Creatures Have More Magic?\",\n",
    "       x = \"Age in Years\",\n",
    "       y = \"Magic Power Level\")\n",
    "print(age_power_scatter)"
   ]
  },
  {
   "cell_type": "markdown",
   "id": "a98e96e8",
   "metadata": {},
   "source": [
    "\n",
    "\n",
    "**Challenge 2: Colored by creature type**\n"
   ]
  },
  {
   "cell_type": "code",
   "execution_count": null,
   "id": "100b8531",
   "metadata": {
    "language": "R"
   },
   "outputs": [],
   "source": [
    "type_scatter <- ggplot(creature_data, aes(x = creature_age, y = magic_power, color = creature_type)) +\n",
    "  geom_point(size = 4) +\n",
    "  labs(title = \"Age vs Magic Power by Creature Type\",\n",
    "       x = \"Age in Years\",\n",
    "       y = \"Magic Power Level\",\n",
    "       color = \"Creature Type\")\n",
    "print(type_scatter)"
   ]
  },
  {
   "cell_type": "markdown",
   "id": "7d28354f",
   "metadata": {},
   "source": [
    "\n",
    "\n",
    "**Challenge 3: Size by magic power, color by wings**\n"
   ]
  },
  {
   "cell_type": "code",
   "execution_count": null,
   "id": "ed2316f0",
   "metadata": {
    "language": "R"
   },
   "outputs": [],
   "source": [
    "advanced_scatter <- ggplot(creature_data, aes(x = creature_age, y = magic_power, \n",
    "                                            color = has_wings, size = magic_power)) +\n",
    "  geom_point(alpha = 0.7) +\n",
    "  labs(title = \"Complex Creature Analysis\",\n",
    "       x = \"Age in Years\",\n",
    "       y = \"Magic Power Level\",\n",
    "       color = \"Has Wings\",\n",
    "       size = \"Magic Power\")\n",
    "print(advanced_scatter)"
   ]
  },
  {
   "cell_type": "markdown",
   "id": "8bd3e998",
   "metadata": {},
   "source": [
    "\n",
    "\n",
    "---\n",
    "\n",
    "## Spell 8: Bar Chart Magic\n",
    "\n",
    "### Challenge Solutions:\n",
    "\n",
    "**Challenge 1: Count creatures by type**\n"
   ]
  },
  {
   "cell_type": "code",
   "execution_count": null,
   "id": "a0002308",
   "metadata": {
    "language": "R"
   },
   "outputs": [],
   "source": [
    "creature_counts <- creature_data %>%\n",
    "  group_by(creature_type) %>%\n",
    "  summarize(total = n())\n",
    "\n",
    "type_bar_chart <- ggplot(creature_counts, aes(x = creature_type, y = total)) +\n",
    "  geom_col(fill = \"orange\", color = \"black\") +\n",
    "  labs(title = \"Which Creature Type is Most Popular?\",\n",
    "       x = \"Creature Type\",\n",
    "       y = \"Number of Creatures\")\n",
    "print(type_bar_chart)"
   ]
  },
  {
   "cell_type": "markdown",
   "id": "122a27a7",
   "metadata": {},
   "source": [
    "\n",
    "\n",
    "**Challenge 2: Average magic power by magical element**\n"
   ]
  },
  {
   "cell_type": "code",
   "execution_count": null,
   "id": "90cf9ad0",
   "metadata": {
    "language": "R"
   },
   "outputs": [],
   "source": [
    "element_power <- creature_data %>%\n",
    "  group_by(magical_element) %>%\n",
    "  summarize(avg_power = mean(magic_power))\n",
    "\n",
    "element_bar_chart <- ggplot(element_power, aes(x = magical_element, y = avg_power, fill = magical_element)) +\n",
    "  geom_col(color = \"black\") +\n",
    "  labs(title = \"Average Magic Power by Element\",\n",
    "       x = \"Magical Element\",\n",
    "       y = \"Average Magic Power\") +\n",
    "  theme(legend.position = \"none\")\n",
    "print(element_bar_chart)"
   ]
  },
  {
   "cell_type": "markdown",
   "id": "fdbc669d",
   "metadata": {},
   "source": [
    "\n",
    "\n",
    "**Challenge 3: Total age by creature type (only winged creatures)**\n"
   ]
  },
  {
   "cell_type": "code",
   "execution_count": null,
   "id": "bda8decf",
   "metadata": {
    "language": "R"
   },
   "outputs": [],
   "source": [
    "winged_age_totals <- creature_data %>%\n",
    "  filter(has_wings == \"Yes\") %>%\n",
    "  group_by(creature_type) %>%\n",
    "  summarize(total_age = sum(creature_age))\n",
    "\n",
    "winged_bar_chart <- ggplot(winged_age_totals, aes(x = creature_type, y = total_age)) +\n",
    "  geom_col(fill = \"skyblue\", color = \"navy\") +\n",
    "  labs(title = \"Total Age of Winged Creatures by Type\",\n",
    "       x = \"Creature Type\",\n",
    "       y = \"Total Age (Years)\")\n",
    "print(winged_bar_chart)"
   ]
  },
  {
   "cell_type": "markdown",
   "id": "0d9f51d7",
   "metadata": {},
   "source": [
    "\n",
    "\n",
    "---\n",
    "\n",
    "## Spell 9: Team Project Example Solutions\n",
    "\n",
    "### Creature Power Mystery Solutions:\n",
    "\n",
    "**Which creature type has the highest average magic power?**\n"
   ]
  },
  {
   "cell_type": "code",
   "execution_count": null,
   "id": "8903b947",
   "metadata": {
    "language": "R"
   },
   "outputs": [],
   "source": [
    "creature_data %>%\n",
    "  group_by(creature_type) %>%\n",
    "  summarize(avg_power = mean(magic_power)) %>%\n",
    "  arrange(desc(avg_power)) %>%\n",
    "  head(1)"
   ]
  },
  {
   "cell_type": "markdown",
   "id": "61fe78f8",
   "metadata": {},
   "source": [
    "\n",
    "\n",
    "**Do winged creatures tend to be more powerful?**\n"
   ]
  },
  {
   "cell_type": "code",
   "execution_count": null,
   "id": "5251a1d3",
   "metadata": {
    "language": "R"
   },
   "outputs": [],
   "source": [
    "wing_power_comparison <- creature_data %>%\n",
    "  group_by(has_wings) %>%\n",
    "  summarize(avg_power = mean(magic_power))\n",
    "\n",
    "ggplot(wing_power_comparison, aes(x = has_wings, y = avg_power, fill = has_wings)) +\n",
    "  geom_col() +\n",
    "  labs(title = \"Average Magic Power: Winged vs Non-Winged\",\n",
    "       x = \"Has Wings\",\n",
    "       y = \"Average Magic Power\")"
   ]
  },
  {
   "cell_type": "markdown",
   "id": "bde94ec7",
   "metadata": {},
   "source": [
    "\n",
    "\n",
    "### Age and Magic Mystery Solutions:\n",
    "\n",
    "**Are older creatures more magical?**\n"
   ]
  },
  {
   "cell_type": "code",
   "execution_count": null,
   "id": "81deb071",
   "metadata": {
    "language": "R"
   },
   "outputs": [],
   "source": [
    "age_magic_plot <- ggplot(creature_data, aes(x = creature_age, y = magic_power)) +\n",
    "  geom_point(size = 4, color = \"purple\") +\n",
    "  geom_smooth(method = \"lm\", se = FALSE) +\n",
    "  labs(title = \"Do Older Creatures Have More Magic?\",\n",
    "       x = \"Age in Years\", \n",
    "       y = \"Magic Level\")\n",
    "print(age_magic_plot)\n",
    "\n",
    "# Calculate correlation\n",
    "correlation <- cor(creature_data$creature_age, creature_data$magic_power)\n",
    "print(paste(\"Correlation between age and magic power:\", correlation))"
   ]
  },
  {
   "cell_type": "markdown",
   "id": "c7813290",
   "metadata": {},
   "source": [
    "\n",
    "\n",
    "### Elemental Balance Mystery Solutions:\n",
    "\n",
    "**Which magical element is most common?**\n"
   ]
  },
  {
   "cell_type": "code",
   "execution_count": null,
   "id": "d89c3dec",
   "metadata": {
    "language": "R"
   },
   "outputs": [],
   "source": [
    "creature_data %>%\n",
    "  group_by(magical_element) %>%\n",
    "  summarize(count = n()) %>%\n",
    "  arrange(desc(count))"
   ]
  },
  {
   "cell_type": "markdown",
   "id": "c979c3de",
   "metadata": {},
   "source": [
    "\n",
    "\n",
    "**Do certain creature types prefer certain elements?**\n"
   ]
  },
  {
   "cell_type": "code",
   "execution_count": null,
   "id": "20d2f4f7",
   "metadata": {
    "language": "R"
   },
   "outputs": [],
   "source": [
    "element_type_analysis <- creature_data %>%\n",
    "  group_by(creature_type, magical_element) %>%\n",
    "  summarize(count = n()) %>%\n",
    "  arrange(creature_type, desc(count))\n",
    "\n",
    "# Visualization\n",
    "ggplot(creature_data, aes(x = creature_type, fill = magical_element)) +\n",
    "  geom_bar(position = \"fill\") +\n",
    "  labs(title = \"Element Distribution by Creature Type\",\n",
    "       x = \"Creature Type\",\n",
    "       y = \"Proportion\",\n",
    "       fill = \"Magical Element\") +\n",
    "  theme(axis.text.x = element_text(angle = 45, hjust = 1))"
   ]
  },
  {
   "cell_type": "markdown",
   "id": "92b1d38a",
   "metadata": {},
   "source": [
    "\n",
    "\n",
    "### Additional Dataset Solutions:\n",
    "\n",
    "**Creature Sightings Analysis:**\n"
   ]
  },
  {
   "cell_type": "code",
   "execution_count": null,
   "id": "003866a9",
   "metadata": {
    "language": "R"
   },
   "outputs": [],
   "source": [
    "creatures_sightings <- read.csv(\"datasets/creature_sightings.csv\")\n",
    "\n",
    "# Location with most sightings\n",
    "creatures_sightings %>%\n",
    "  group_by(location) %>%\n",
    "  summarize(total_sightings = sum(count)) %>%\n",
    "  arrange(desc(total_sightings))\n",
    "\n",
    "# Rarest creature\n",
    "creatures_sightings %>%\n",
    "  group_by(creature_type) %>%\n",
    "  summarize(total_seen = sum(count)) %>%\n",
    "  arrange(total_seen) %>%\n",
    "  head(1)"
   ]
  },
  {
   "cell_type": "markdown",
   "id": "94948bb8",
   "metadata": {},
   "source": [
    "\n",
    "\n",
    "**Magic School Analysis:**\n"
   ]
  },
  {
   "cell_type": "code",
   "execution_count": null,
   "id": "f929fbf2",
   "metadata": {
    "language": "R"
   },
   "outputs": [],
   "source": [
    "school_data <- read.csv(\"datasets/magic_school_grades.csv\")\n",
    "\n",
    "# Subject students struggle with most\n",
    "school_data %>%\n",
    "  group_by(subject) %>%\n",
    "  summarize(avg_grade = mean(grade)) %>%\n",
    "  arrange(avg_grade) %>%\n",
    "  head(1)\n",
    "\n",
    "# Top students\n",
    "school_data %>%\n",
    "  group_by(student_name) %>%\n",
    "  summarize(avg_grade = mean(grade)) %>%\n",
    "  arrange(desc(avg_grade)) %>%\n",
    "  head(3)"
   ]
  }
 ],
 "metadata": {
  "kernelspec": {
   "display_name": "R",
   "language": "R",
   "name": "ir"
  }
 },
 "nbformat": 4,
 "nbformat_minor": 5
}
