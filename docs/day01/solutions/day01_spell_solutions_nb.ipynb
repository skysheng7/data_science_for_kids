{
  "cells": [
    {
      "cell_type": "markdown",
      "metadata": {},
      "source": [
        "# 🔮 Day 1 - Spell Solutions \n",
        "*Oda the Data Otter's Magic Answer Key! 🦦✨*\n",
        "\n",
        "---\n",
        "\n",
        "## ✨ Spell 1: Simple If-Else Magic - Solutions\n",
        "\n",
        "### Activity Questions & Answers:\n",
        "\n",
        "**1. Change `my_favorite_number` to different values (try 3, 10, 1)**\n",
        "\n",
        "- `my_favorite_number <- 3`: Output → \"💭 That's a nice small number!\" (because 3 is not > 5)\n",
        "- `my_favorite_number <- 10`: Output → \"🎉 Wow! That's a big number!\" (because 10 > 5)  \n",
        "- `my_favorite_number <- 1`: Output → \"💭 That's a nice small number!\" (because 1 is not > 5)\n",
        "\n",
        "**2. Can you predict the message before running it?**\n",
        "- If the number is greater than 5 → \"big number\" message\n",
        "- If the number is 5 or less → \"small number\" message\n",
        "\n",
        "---\n",
        "\n",
        "## ✨ Spell 2: Multiple Choices - Solutions\n",
        "\n",
        "### Activity Questions & Answers:\n",
        "\n",
        "**1. Change `favorite_color` to your actual favorite color**\n",
        "- If your color is \"red\", \"blue\", or \"green\" → specific mood message\n",
        "- Any other color → \"✨ You have a unique and magical taste!\"\n",
        "\n",
        "**2. If your color isn't there, what message do you get?**\n",
        "- You get the default message: \"✨ You have a unique and magical taste!\"\n",
        "\n",
        "**3. Extension: Add your favorite color with a special message**"
      ]
    },
    {
      "cell_type": "code",
      "execution_count": 1,
      "metadata": {
        "vscode": {
          "languageId": "r"
        }
      },
      "outputs": [
        {
          "name": "stdout",
          "output_type": "stream",
          "text": [
            "[1] \"<U+0001F49C> You love magic and mystery!\"\n"
          ]
        }
      ],
      "source": [
        "# 🌈 Oda's color mood detector with added purple option\n",
        "favorite_color <- \"purple\"\n",
        "\n",
        "if (favorite_color == \"red\") {\n",
        "  print(\"🔥 You like bold and exciting adventures!\")\n",
        "} else if (favorite_color == \"blue\") {\n",
        "  print(\"🌊 You love calm and peaceful vibes!\")\n",
        "} else if (favorite_color == \"green\") {\n",
        "  print(\"🌱 You enjoy nature and growing things!\")\n",
        "} else if (favorite_color == \"purple\") { # NEW line added to include a new color purple\n",
        "  print(\"💜 You love magic and mystery!\") # NEW line added\n",
        "} else {\n",
        "  print(\"✨ You have a unique and magical taste!\")\n",
        "}"
      ]
    },
    {
      "cell_type": "markdown",
      "metadata": {},
      "source": [
        "---\n",
        "\n",
        "## ✨ Spell 3: Number Range Detective - Solutions\n",
        "\n",
        "### Activity Questions & Answers:\n",
        "\n",
        "**1. Predict which otter for each number:**\n",
        "- `mystery_number <- 5`: \"🐣 Tiny number - like a baby otter!\" (5 < 10)\n",
        "- `mystery_number <- 25`: \"🦦 Medium number - like a young otter!\" (25 < 50)\n",
        "- `mystery_number <- 75`: \"🏔️ Big number - like a mountain otter!\" (75 < 100)\n",
        "- `mystery_number <- 150`: \"🚀 Huge number - like a space otter!\" (150 >= 100)\n",
        "\n",
        "**2. What happens with 0 or negative numbers?**\n",
        "- `mystery_number <- 0`: \"🐣 Tiny number - like a baby otter!\" (0 < 10)\n",
        "- `mystery_number <- -5`: \"🐣 Tiny number - like a baby otter!\" (-5 < 10)\n",
        "\n",
        "**3. Why check smaller numbers first?**\n",
        "- R checks conditions from top to bottom and stops at the first TRUE condition\n",
        "- If we checked larger ranges first, smaller numbers might never reach their specific conditions\n",
        "\n",
        "---\n",
        "\n",
        "## ✨ Spell 4: AND Condition Magic - Solutions\n",
        "\n",
        "### Activity Questions & Answers:\n",
        "\n",
        "**1. Test weather combinations:**\n",
        "- `temperature <- 15, weather <- \"sunny\"`: \"🏠 Maybe it's a good day to stay inside...\" (15 is not > 20)\n",
        "- `temperature <- 25, weather <- \"rainy\"`: \"🏠 Maybe it's a good day to stay inside...\" (weather is not \"sunny\")  \n",
        "- `temperature <- 30, weather <- \"sunny\"`: \"🏖️ Perfect day for swimming and playing!\" (both conditions true)\n",
        "\n",
        "**2. Challenge Questions:**\n",
        "- **Only temperature good but weather bad**: No perfect day (need BOTH conditions)\n",
        "- **Only weather good but temperature bad**: No perfect day (need BOTH conditions)\n",
        "- **Why need BOTH true**: AND (&) requires ALL conditions to be true\n",
        "\n",
        "**3. 🎯 Experiment: Try creating your own perfect day conditions:** Example output:"
      ]
    },
    {
      "cell_type": "code",
      "execution_count": 2,
      "metadata": {
        "vscode": {
          "languageId": "r"
        }
      },
      "outputs": [
        {
          "name": "stdout",
          "output_type": "stream",
          "text": [
            "[1] \"<U+0001F4A8> Wow I'm being blown away, hide in the bunk!\"\n"
          ]
        }
      ],
      "source": [
        "temperature <- 25\n",
        "weather <- \"sunny\"\n",
        "wind_speed <- 60\n",
        "\n",
        "if ((temperature > 20) & (weather == \"sunny\") & (wind_speed < 10)) {\n",
        "  print(\"🏖️ Perfect day for swimming and playing!\")\n",
        "  print(\"🦦 Oda is super happy!\")\n",
        "} else if (wind_speed > 50){\n",
        "  print(\"💨 Wow I'm being blown away, hide in the bunk!\")\n",
        "}else {\n",
        "  print(\"🏠 Maybe it's a good day to stay inside and code!\")\n",
        "}"
      ]
    },
    {
      "cell_type": "markdown",
      "metadata": {},
      "source": [
        "*(Because wind_speed = 60, which is > 50, so the first condition fails and the second condition is true)*\n",
        "---\n",
        "\n",
        "## ✨ Spell 5: OR Condition Magic - Solutions\n",
        "\n",
        "### Activity Questions & Answers:\n",
        "\n",
        "**1. Test different snacks:**\n",
        "- `snack <- \"apple\"`: \"🥰 Yummy! Oda loves healthy snacks!\" (apple is in healthy list)\n",
        "- `snack <- \"banana\"`: \"🥰 Yummy! Oda loves healthy snacks!\" (banana is in healthy list)\n",
        "- `snack <- \"cookie\"`: \"🍪 Sweet treat! But just a little bit!\" (cookie is in sweet list)\n",
        "- `snack <- \"pizza\"`: \"🤔 Hmm, Oda isn't sure about this snack...\" (not in any list)\n",
        "\n",
        "**2. What happens with \"Apple\" vs \"apple\"?**\n",
        "- `snack <- \"Apple\"`: \"🤔 Hmm, Oda isn't sure...\" (R is case-sensitive - \"Apple\" ≠ \"apple\")\n",
        "\n",
        "**3. Extension: Add more snacks**"
      ]
    },
    {
      "cell_type": "code",
      "execution_count": 3,
      "metadata": {
        "vscode": {
          "languageId": "r"
        }
      },
      "outputs": [
        {
          "name": "stdout",
          "output_type": "stream",
          "text": [
            "[1] \"<U+0001F9C0> Protein power! Great for brain fuel!\"\n"
          ]
        }
      ],
      "source": [
        "# 🍎 Oda's snack time detector with added protein category\n",
        "snack <- \"cheese\"\n",
        "\n",
        "if (snack == \"apple\" | snack == \"banana\" | snack == \"carrot\") {\n",
        "  print(\"🥰 Yummy! Oda loves healthy snacks!\")\n",
        "  print(\"💪 This will give me energy for coding!\")\n",
        "} else if (snack == \"cookie\" | snack == \"candy\") {\n",
        "  print(\"🍪 Sweet treat! But just a little bit!\")\n",
        "} else if (snack == \"cheese\" | snack == \"nuts\") {\n",
        "  print(\"🧀 Protein power! Great for brain fuel!\")\n",
        "} else {\n",
        "  print(\"🤔 Hmm, Oda isn't sure about this snack...\")\n",
        "}"
      ]
    },
    {
      "cell_type": "markdown",
      "metadata": {},
      "source": [
        "---\n",
        "\n",
        "## ✨ Spell 6: Age Group Sorter - Solutions\n",
        "\n",
        "### Activity Questions & Answers:\n",
        "\n",
        "**1. Test different ages:**\n",
        "- `age <- 5`: \"🐣 Little explorer - just starting the adventure!\" (5 < 6)\n",
        "- `age <- 8`: \"🧸 Young adventurer - ready for fun!\" (6 ≤ 8 ≤ 9)\n",
        "- `age <- 12`: \"🧙‍♀️ Data wizard in training - that's you!\" (10 ≤ 12 ≤ 14)\n",
        "- `age <- 16`: \"🚀 Teen tech master - almost ready to rule the world!\" (15 ≤ 16 ≤ 18)\n",
        "- `age <- 25`: \"🎓 Wise adult - teaching the next generation!\" (25 > 18)\n",
        "\n",
        "**2. Edge cases:**\n",
        "- `age <- 6`: \"🧸 Young adventurer\" (6 ≥ 6 is true)\n",
        "- `age <- 14`: \"🧙‍♀️ Data wizard in training\" (14 ≤ 14 is true)\n",
        "\n",
        "**3. Why use >= and <=?**\n",
        "- To include the boundary ages (like exactly 6 or exactly 14)\n",
        "- Makes sure no ages \"fall through the cracks\"\n",
        "\n",
        "**4. 🎯 Challenge Solution: Age-Based Activity Sorter**"
      ]
    },
    {
      "cell_type": "code",
      "execution_count": 4,
      "metadata": {
        "vscode": {
          "languageId": "r"
        }
      },
      "outputs": [
        {
          "name": "stdout",
          "output_type": "stream",
          "text": [
            "[1] \"<U+0001F9D9><U+200D><U+2640><U+FE0F> Data Wizard Activities:\"\n",
            "[1] \"<U+0001F4BB> Learn coding and computer programming!\"\n",
            "[1] \"<U+0001F3B8> Learn musical instruments\"\n",
            "[1] \"<U+0001F4F1> Create digital art and videos\"\n",
            "[1] \"<U+0001F9E9> Complex strategy games and escape rooms\"\n",
            "[1] \"<U+0001F382> Perfect activities for someone who is 12 years old!\"\n"
          ]
        }
      ],
      "source": [
        "# 🎯 Oda's Age-Based Activity Sorter - Perfect activities for each age group!\n",
        "age <- 12  # Try different ages: 4, 7, 13, 16, 25\n",
        "\n",
        "if (age < 6) {\n",
        "  print(\"🐣 Little Explorer Activities:\")\n",
        "  print(\"🧸 Play with building blocks and stuffed animals\")\n",
        "  print(\"📚 Listen to picture book stories\") \n",
        "  print(\"🎨 Finger painting and simple crafts\")\n",
        "  print(\"🎵 Sing-along songs and nursery rhymes\")\n",
        "} else if (age >= 6 & age <= 9) {\n",
        "  print(\"🧸 Young Adventurer Activities:\")\n",
        "  print(\"🎮 Simple board games and puzzles\")\n",
        "  print(\"⚽ Team sports like soccer or basketball\")\n",
        "  print(\"🔬 Basic science experiments\")\n",
        "  print(\"🎭 Drama and pretend play\")\n",
        "} else if (age >= 10 & age <= 14) {\n",
        "  print(\"🧙‍♀️ Data Wizard Activities:\")\n",
        "  print(\"💻 Learn coding and computer programming!\")\n",
        "  print(\"🎸 Learn musical instruments\")\n",
        "  print(\"📱 Create digital art and videos\")\n",
        "  print(\"🧩 Complex strategy games and escape rooms\")\n",
        "} else if (age >= 15 & age <= 18) {\n",
        "  print(\"🚀 Teen Tech Master Activities:\")\n",
        "  print(\"🚗 Learn to drive and gain independence\")\n",
        "  print(\"💼 Part-time jobs and internships\")\n",
        "  print(\"🎓 Prepare for college and career planning\")\n",
        "  print(\"🌍 Volunteer work and community service\")\n",
        "} else {\n",
        "  print(\"🎓 Wise Adult Activities:\")\n",
        "  print(\"👨‍🏫 Teach and mentor the next generation\")\n",
        "  print(\"💰 Career advancement and financial planning\")\n",
        "  print(\"🌿 Hobbies like gardening, cooking, or travel\")\n",
        "}\n",
        "\n",
        "print(paste(\"🎂 Perfect activities for someone who is\", age, \"years old!\"))"
      ]
    },
    {
      "cell_type": "markdown",
      "metadata": {},
      "source": [
        "---\n",
        "\n",
        "## ✨ Spell 7: Multiple Actions Spell - Solutions\n",
        "\n",
        "### Activity Questions & Answers:\n",
        "\n",
        "**1. Test magic words:**\n",
        "- `magic_word <- \"abracadabra\"`: Full classic magic show (4 actions)\n",
        "- `magic_word <- \"alakazam\"`: Fireworks show (3 actions)\n",
        "- `magic_word <- \"hocus pocus\"`: Unknown magic word message (2 actions)\n",
        "\n",
        "**2. Why multiple print() statements?**\n",
        "- Each print() creates a separate line of output\n",
        "- Creates a sequence of actions that tell a story\n",
        "- Makes the magic show feel more dramatic and realistic\n",
        "\n",
        "**3. Creative Challenge: Add third magic word**"
      ]
    },
    {
      "cell_type": "code",
      "execution_count": 5,
      "metadata": {
        "vscode": {
          "languageId": "r"
        }
      },
      "outputs": [
        {
          "name": "stdout",
          "output_type": "stream",
          "text": [
            "[1] \"<U+0001F430> *Magic rabbits hop everywhere*\"\n",
            "[1] \"<U+0001F308> *Rainbow appears in the sky*\"\n",
            "[1] \"<U+0001F9A6> Oda waves her magic wand!\"\n"
          ]
        }
      ],
      "source": [
        "# 🎪 Oda's magic show with multiple tricks including new \"presto\" magic\n",
        "magic_word <- \"presto\"\n",
        "\n",
        "if (magic_word == \"abracadabra\") {\n",
        "  print(\"✨ *Sparkles appear in the air*\")\n",
        "  print(\"🎩 *A rabbit pops out of the hat*\")\n",
        "  print(\"🌟 *The crowd cheers loudly*\")\n",
        "  print(\"🦦 Oda takes a bow!\")\n",
        "} else if (magic_word == \"alakazam\") {\n",
        "  print(\"💥 *Thunder sound effect*\")\n",
        "  print(\"🎆 *Colorful fireworks explode*\")\n",
        "  print(\"🦦 Oda does a backflip!\")\n",
        "} else if (magic_word == \"presto\") {\n",
        "  print(\"🐰 *Magic rabbits hop everywhere*\")\n",
        "  print(\"🌈 *Rainbow appears in the sky*\")\n",
        "  print(\"🦦 Oda waves her magic wand!\")\n",
        "} else {\n",
        "  print(\"😅 Oops! That's not a magic word Oda knows...\")\n",
        "  print(\"💡 Try 'abracadabra', 'alakazam', or 'presto'!\")\n",
        "}"
      ]
    },
    {
      "cell_type": "markdown",
      "metadata": {},
      "source": [
        "---\n",
        "\n",
        "## ✨ Spell 8: No Else Challenge - Solutions\n",
        "\n",
        "### Activity Questions & Answers:\n",
        "\n",
        "**1. Test point values:**\n",
        "- `points <- 30`: Only \"🎯 You have 30 points total!\" (no achievements met)\n",
        "- `points <- 60`: \"👍 GOOD JOB! Keep practicing!\" + total points (≥50 condition met)\n",
        "- `points <- 80`: \"⭐ AWESOME! You're doing great!\" + \"👍 GOOD JOB! Keep practicing!\" + total points (≥75 and ≥50 met)\n",
        "- `points <- 120`: All three achievements + total points (≥100, ≥75, ≥50 all met)\n",
        "\n",
        "**2. Why multiple achievement messages?**\n",
        "- Each `if` statement runs independently (no `else` to stop them)\n",
        "- High scores qualify for multiple achievement levels simultaneously\n",
        "- Like earning multiple badges in a game\n",
        "\n",
        "**3. Minimum points for all achievements?**\n",
        "- Need at least 100 points to trigger all three achievement conditions\n",
        "\n",
        "---\n",
        "\n",
        "## ✨ Spell 9: Code Order Magic - Solutions\n",
        "\n",
        "### Activity Questions & Answers:\n",
        "\n",
        "**1. Compare both versions:**\n",
        "\n",
        "**Version 9A (Correct):**\n",
        "- `position <- 1`: \"🥇 GOLD MEDAL!\"\n",
        "- `position <- 2`: \"🥈 SILVER MEDAL!\"  \n",
        "- `position <- 3`: \"🥉 BRONZE MEDAL!\"\n",
        "\n",
        "**Version 9B (Wrong):**\n",
        "- `position <- 1`: \"👏 Good race! Keep practicing!\" (WRONG!)\n",
        "- `position <- 2`: \"👏 Good race! Keep practicing!\" (WRONG!)\n",
        "- `position <- 3`: \"👏 Good race! Keep practicing!\" (WRONG!)\n",
        "\n",
        "**2. Why Version 9B always says \"Good race!\"**\n",
        "- First condition `position >= 1` is TRUE for positions 1, 2, and 3\n",
        "- R stops at the first TRUE condition and never checks the others\n",
        "\n",
        "**3. Which conditions never run in Version 2?**\n",
        "- The `position == 1` and `position == 2` conditions never run\n",
        "- Because `position >= 1` catches everything first\n",
        "\n",
        "**Key Lesson:** Always check SPECIFIC conditions before GENERAL ones!\n",
        "\n",
        "---\n",
        "\n",
        "## ✨ Spell 10: String Detective - Solutions\n",
        "\n",
        "### Activity Questions & Answers:\n",
        "\n",
        "**1. Test different names:**\n",
        "- `name <- \"Jo\"`: \"📝 You have a nice short name!\" (2 letters ≤ 4)\n",
        "- `name <- \"Elizabeth\"`: \"📚 Wow! You have a beautifully long name!\" (9 letters ≥ 8)\n",
        "- `name <- \"Sam\"`: \"📝 You have a nice short name!\" (3 letters ≤ 4)\n",
        "- `name <- \"Christopher\"`: \"📚 Wow! You have a beautifully long name!\" (11 letters ≥ 8)\n",
        "\n",
        "**2. What does nchar() do?**\n",
        "- `nchar()` counts the number of characters (letters) in a text string\n",
        "- `nchar(\"hello\")` returns 5\n",
        "- `nchar(\"R\")` returns 1\n",
        "\n",
        "**3. Why can't Oda find Mike? THE BIG PROBLEM!**\n",
        "- When `name <- \"Mike\"`: \n",
        "  1. First condition: `nchar(\"Mike\") <= 4` → `4 <= 4` → TRUE!\n",
        "  2. R prints \"📝 You have a nice short name!\" and stops\n",
        "  3. The Mike-finding condition never gets checked!\n",
        "\n",
        "**4. How to fix it:**"
      ]
    },
    {
      "cell_type": "code",
      "execution_count": 6,
      "metadata": {
        "vscode": {
          "languageId": "r"
        }
      },
      "outputs": [
        {
          "name": "stdout",
          "output_type": "stream",
          "text": [
            "[1] \"<U+0001F465> Hi Mike, long time no see! I've caught some clams today! <U+0001F30A> <U+0001F41A> <U+0001F9AA>\"\n",
            "[1] \"<U+0001F522> Your name has 4 letters!\"\n"
          ]
        }
      ],
      "source": [
        "# 🔍 FIXED version - Oda can now find Mike! Check for Mike FIRST:\n",
        "name <- \"Mike\"\n",
        "\n",
        "if (name == \"mike\" | name == \"Mike\" | name == \"Michael\" | name == \"michael\"){\n",
        "  print(\"👥 Hi Mike, long time no see! I've caught some clams today! 🌊 🐚 🦪\")\n",
        "} else if (nchar(name) <= 4){\n",
        "  print(\"📝 You have a nice short name!\")\n",
        "} else if (nchar(name) >= 8) {\n",
        "  print(\"📚 Wow! You have a beautifully long name!\")\n",
        "} else {\n",
        "  print(\"✨ You have a perfectly medium-sized name!\")\n",
        "}\n",
        "\n",
        "# Bonus: Count the letters in your name!\n",
        "print(paste(\"🔢 Your name has\", nchar(name), \"letters!\"))"
      ]
    },
    {
      "cell_type": "markdown",
      "metadata": {},
      "source": [
        "*(Now Oda can find Mike because we check for his name BEFORE checking the length!)*\n",
        "\n",
        "---\n",
        "\n",
        "## ✨ Spell 11: Temperature Zone Detective - Solutions\n",
        "\n",
        "### Activity Questions & Answers:\n",
        "\n",
        "**1. Test temperatures:**\n",
        "- `temperature <- -5`: \"🧊 FREEZING!\" + winter coat message (-5 ≤ 0)\n",
        "- `temperature <- 5`: \"🥶 COLD! Perfect sweater weather!\" (1 ≤ 5 ≤ 10)\n",
        "- `temperature <- 15`: \"😊 COOL! Great for a light jacket!\" (11 ≤ 15 ≤ 20)\n",
        "- `temperature <- 25`: \"☀️ WARM! Perfect for playing outside!\" (21 ≤ 25 ≤ 30)\n",
        "- `temperature <- 35`: \"🔥 HOT!\" + swimming message (35 ≥ 31)\n",
        "\n",
        "**2. Why use >= and <= instead of > and <?**\n",
        "- To include exact boundary temperatures (like exactly 0°, 21°, etc.)\n",
        "- Prevents temperatures from \"falling between\" categories\n",
        "- `temperature <- 20` with `< 20` would not be caught by the \"cool\" category\n",
        "\n",
        "**3. Edge cases:**\n",
        "- `temperature <- 0`: \"🧊 FREEZING!\" (0 ≤ 0 is true)\n",
        "- `temperature <- 21`: \"☀️ WARM!\" (21 ≥ 21 is true)\n",
        "- `temperature <- 20.5`: \"🤔 Something seems fishy with this temperature...\"\n",
        "\n",
        "\n",
        "---\n",
        "\n",
        "## ✨ Spell 12: Magical Creatures - Solutions\n",
        "\n",
        "### Activity Questions & Answers:\n",
        "\n",
        "**1. Test different combinations:**\n",
        "- `creature_size <- 15, creature_color <- \"purple\"`: \"🧚‍♀️ You found a tiny fairy!\"\n",
        "- `creature_size <- 50, creature_color <- \"gold\"`: \"🐉 You found a baby dragon!\"\n",
        "- `creature_size <- 50, creature_color <- \"blue\"`: \"🦦 You found Oda the Otter!\"\n",
        "- `creature_size <- 150, creature_color <- \"any\"`: \"👹 You found a friendly giant!\"\n",
        "\n",
        "**2. What happens with negative/zero size?**\n",
        "- `creature_size <- 0`: \"🐛 You found a magical bug!\" (0 ≤ 20, not purple)\n",
        "- `creature_size <- -5`: \"🐛 You found a magical bug!\" (-5 ≤ 20, not purple)\n",
        "\n",
        "**3. How nested conditions work:**\n",
        "- Outer condition checks size range first\n",
        "- Inner conditions check color within that size range\n",
        "- Like a decision tree: size → then color → then result\n",
        "\n",
        "**4. Extension ideas:**"
      ]
    },
    {
      "cell_type": "code",
      "execution_count": 7,
      "metadata": {
        "vscode": {
          "languageId": "r"
        }
      },
      "outputs": [
        {
          "name": "stdout",
          "output_type": "stream",
          "text": [
            "[1] \"<U+0001F43A> You found a silver wolf!\"\n",
            "[1] \"<U+0001F4CF> Your creature is 150 cm tall and silver colored!\"\n"
          ]
        }
      ],
      "source": [
        "# 🦄 EXTENDED Magical Creature Classifier with more sizes and colors\n",
        "creature_size <- 150   # Size in cm\n",
        "creature_color <- \"silver\" # Try different colors\n",
        "\n",
        "if (creature_size <= 20) {\n",
        "  if (creature_color == \"purple\") {\n",
        "    print(\"🧚‍♀️ You found a tiny fairy!\")\n",
        "  } else if (creature_color == \"invisible\") {\n",
        "    print(\"👻 You found an invisible sprite!\")\n",
        "  } else {\n",
        "    print(\"🐛 You found a magical bug!\")\n",
        "  }\n",
        "} else if (creature_size >= 21 & creature_size <= 100) {\n",
        "  if (creature_color == \"purple\") {\n",
        "    print(\"🦄 You found a unicorn!\")\n",
        "  } else if (creature_color == \"gold\") {\n",
        "    print(\"🐉 You found a baby dragon!\")\n",
        "  } else if (creature_color == \"rainbow\") {\n",
        "    print(\"🦄 You found a rainbow unicorn!\")\n",
        "  } else {\n",
        "    print(\"🦦 You found Oda the Otter!\")\n",
        "  }\n",
        "} else if (creature_size >= 101 & creature_size <= 200) {\n",
        "  if (creature_color == \"silver\") {\n",
        "    print(\"🐺 You found a silver wolf!\")\n",
        "  } else if (creature_color == \"gold\") {\n",
        "    print(\"🐉 You found a teenage dragon!\")\n",
        "  } else {\n",
        "    print(\"🐻 You found a friendly bear!\")\n",
        "  }\n",
        "} else if (creature_size >= 201) {\n",
        "  print(\"👹 You found a friendly giant!\")\n",
        "}\n",
        "\n",
        "print(paste(\"📏 Your creature is\", creature_size, \"cm tall and\", creature_color, \"colored!\"))"
      ]
    },
    {
      "cell_type": "markdown",
      "metadata": {},
      "source": [
        "*(Because creature_size = 150 falls in the 101-200 range, and creature_color = \"silver\" matches the wolf condition)*\n",
        "\n",
        "**5. SUPER CHALLENGE: Flying Ability Extension**"
      ]
    },
    {
      "cell_type": "code",
      "execution_count": 8,
      "metadata": {
        "vscode": {
          "languageId": "r"
        }
      },
      "outputs": [
        {
          "name": "stdout",
          "output_type": "stream",
          "text": [
            "[1] \"<U+0001F409><U+2708><U+FE0F> You found a flying baby dragon!\"\n",
            "[1] \"<U+0001F525> It breathes fire while soaring through the clouds!\"\n",
            "[1] \"<U+0001F4CF> Your creature is 50 cm tall, gold colored, and has flying ability!\"\n"
          ]
        }
      ],
      "source": [
        "# 🚀 ULTIMATE Magical Creature Classifier with Flying Abilities!\n",
        "creature_size <- 50      # Size in cm\n",
        "creature_color <- \"gold\" # Try different colors  \n",
        "creature_ability <- \"flying\"  # Try: \"flying\", \"swimming\", \"invisible\"\n",
        "\n",
        "if (creature_size <= 20) {\n",
        "  if (creature_color == \"purple\") {\n",
        "    if (creature_ability == \"flying\") {\n",
        "      print(\"🧚‍♀️✈️ You found a flying tiny fairy!\")\n",
        "      print(\"💫 She can sprinkle magic dust from the sky!\")\n",
        "    } else if (creature_ability == \"invisible\") {\n",
        "      print(\"🧚‍♀️👻 You found an invisible tiny fairy!\")\n",
        "      print(\"🔍 You can only see sparkles where she flies!\")\n",
        "    } else {\n",
        "      print(\"🧚‍♀️ You found a tiny fairy!\")\n",
        "    }\n",
        "  } else {\n",
        "    print(\"🐛 You found a magical bug!\")\n",
        "  }\n",
        "} else if (creature_size >= 21 & creature_size <= 100) {\n",
        "  if (creature_color == \"gold\") {\n",
        "    if (creature_ability == \"flying\") {\n",
        "      print(\"🐉✈️ You found a flying baby dragon!\")\n",
        "      print(\"🔥 It breathes fire while soaring through the clouds!\")\n",
        "    } else if (creature_ability == \"swimming\") {\n",
        "      print(\"🐉🌊 You found a swimming baby dragon!\")\n",
        "      print(\"💧 It can breathe underwater and shoots water blasts!\")\n",
        "    } else {\n",
        "      print(\"🐉 You found a baby dragon!\")\n",
        "    }\n",
        "  } else if (creature_color == \"purple\") {\n",
        "    if (creature_ability == \"flying\") {\n",
        "      print(\"🦄✈️ You found a flying unicorn!\")\n",
        "      print(\"🌈 It leaves rainbow trails in the sky!\")\n",
        "    } else {\n",
        "      print(\"🦄 You found a unicorn!\")\n",
        "    }\n",
        "  } else {\n",
        "    print(\"🦦 You found Oda the Otter!\")\n",
        "  }\n",
        "} else if (creature_size >= 101) {\n",
        "  if (creature_ability == \"flying\") {\n",
        "    print(\"👹✈️ You found a flying friendly giant!\")\n",
        "    print(\"☁️ The ground shakes when it lands!\")\n",
        "  } else {\n",
        "    print(\"👹 You found a friendly giant!\")\n",
        "  }\n",
        "}\n",
        "\n",
        "print(paste(\"📏 Your creature is\", creature_size, \"cm tall,\", creature_color, \"colored, and has\", creature_ability, \"ability!\"))"
      ]
    },
    {
      "cell_type": "markdown",
      "metadata": {},
      "source": [
        "*(Because creature_size = 50, creature_color = \"gold\", and creature_ability = \"flying\" all match the flying baby dragon conditions)*\n",
        "\n",
        "---\n",
        "\n",
        "*🎉 Congratulations! You've mastered all 12 magical spells! You're now ready to cast decision-making magic in any R adventure! 🦦✨*"
      ]
    }
  ],
  "metadata": {
    "kernelspec": {
      "display_name": "R",
      "language": "R",
      "name": "ir"
    },
    "language_info": {
      "codemirror_mode": "r",
      "file_extension": ".r",
      "mimetype": "text/x-r-source",
      "name": "R",
      "pygments_lexer": "r",
      "version": "4.3.0"
    }
  },
  "nbformat": 4,
  "nbformat_minor": 4
}
