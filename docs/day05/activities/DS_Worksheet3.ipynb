{
 "cells": [
  {
   "cell_type": "markdown",
   "id": "ac8535dc-a66a-49f1-8fcc-be80deb2d017",
   "metadata": {},
   "source": [
    "# Worksheet 3. Machine Learning\n",
    "\n",
    "## Girls in Data Science Camp\n",
    "\n",
    "In this worksheet, we will be working with the [Nutrition Facts for McDonald's Menu](https://www.kaggle.com/datasets/mcdonalds/nutrition-facts?resource=download) data, which contains information about items sold at McDonald across 9 food categories. \n",
    "<br>\n",
    "<img src=\"img/logo.png\" alt=\"Logo\" style=\"width: 300px; display: block; margin-left: auto; margin-right: auto;\"/>\n",
    "From the original dataset, we will be excluding the `Item` and `Serving Size` columns, as they are not relevant to the machine learning model we are about to build. Integrating these columns with the predictors used in this worksheet is beyond the scope of this camp."
   ]
  },
  {
   "cell_type": "code",
   "execution_count": 1,
   "id": "e0c2b2aa-1d8c-49f4-8c1d-16e77ea092fd",
   "metadata": {
    "vscode": {
     "languageId": "r"
    }
   },
   "outputs": [
    {
     "name": "stderr",
     "output_type": "stream",
     "text": [
      "── \u001b[1mAttaching core tidyverse packages\u001b[22m ──────────────────────── tidyverse 2.0.0 ──\n",
      "\u001b[32m✔\u001b[39m \u001b[34mdplyr    \u001b[39m 1.1.4     \u001b[32m✔\u001b[39m \u001b[34mreadr    \u001b[39m 2.1.5\n",
      "\u001b[32m✔\u001b[39m \u001b[34mforcats  \u001b[39m 1.0.0     \u001b[32m✔\u001b[39m \u001b[34mstringr  \u001b[39m 1.5.1\n",
      "\u001b[32m✔\u001b[39m \u001b[34mggplot2  \u001b[39m 3.5.1     \u001b[32m✔\u001b[39m \u001b[34mtibble   \u001b[39m 3.2.1\n",
      "\u001b[32m✔\u001b[39m \u001b[34mlubridate\u001b[39m 1.9.3     \u001b[32m✔\u001b[39m \u001b[34mtidyr    \u001b[39m 1.3.1\n",
      "\u001b[32m✔\u001b[39m \u001b[34mpurrr    \u001b[39m 1.0.2     \n",
      "── \u001b[1mConflicts\u001b[22m ────────────────────────────────────────── tidyverse_conflicts() ──\n",
      "\u001b[31m✖\u001b[39m \u001b[34mdplyr\u001b[39m::\u001b[32mfilter()\u001b[39m masks \u001b[34mstats\u001b[39m::filter()\n",
      "\u001b[31m✖\u001b[39m \u001b[34mdplyr\u001b[39m::\u001b[32mlag()\u001b[39m    masks \u001b[34mstats\u001b[39m::lag()\n",
      "\u001b[36mℹ\u001b[39m Use the conflicted package (\u001b[3m\u001b[34m<http://conflicted.r-lib.org/>\u001b[39m\u001b[23m) to force all conflicts to become errors\n",
      "── \u001b[1mAttaching packages\u001b[22m ────────────────────────────────────── tidymodels 1.2.0 ──\n",
      "\n",
      "\u001b[32m✔\u001b[39m \u001b[34mbroom       \u001b[39m 1.0.6     \u001b[32m✔\u001b[39m \u001b[34mrsample     \u001b[39m 1.2.1\n",
      "\u001b[32m✔\u001b[39m \u001b[34mdials       \u001b[39m 1.3.0     \u001b[32m✔\u001b[39m \u001b[34mtune        \u001b[39m 1.2.1\n",
      "\u001b[32m✔\u001b[39m \u001b[34minfer       \u001b[39m 1.0.7     \u001b[32m✔\u001b[39m \u001b[34mworkflows   \u001b[39m 1.1.4\n",
      "\u001b[32m✔\u001b[39m \u001b[34mmodeldata   \u001b[39m 1.4.0     \u001b[32m✔\u001b[39m \u001b[34mworkflowsets\u001b[39m 1.1.0\n",
      "\u001b[32m✔\u001b[39m \u001b[34mparsnip     \u001b[39m 1.2.1     \u001b[32m✔\u001b[39m \u001b[34myardstick   \u001b[39m 1.3.1\n",
      "\u001b[32m✔\u001b[39m \u001b[34mrecipes     \u001b[39m 1.1.0     \n",
      "\n",
      "── \u001b[1mConflicts\u001b[22m ───────────────────────────────────────── tidymodels_conflicts() ──\n",
      "\u001b[31m✖\u001b[39m \u001b[34mscales\u001b[39m::\u001b[32mdiscard()\u001b[39m masks \u001b[34mpurrr\u001b[39m::discard()\n",
      "\u001b[31m✖\u001b[39m \u001b[34mdplyr\u001b[39m::\u001b[32mfilter()\u001b[39m   masks \u001b[34mstats\u001b[39m::filter()\n",
      "\u001b[31m✖\u001b[39m \u001b[34mrecipes\u001b[39m::\u001b[32mfixed()\u001b[39m  masks \u001b[34mstringr\u001b[39m::fixed()\n",
      "\u001b[31m✖\u001b[39m \u001b[34mdplyr\u001b[39m::\u001b[32mlag()\u001b[39m      masks \u001b[34mstats\u001b[39m::lag()\n",
      "\u001b[31m✖\u001b[39m \u001b[34myardstick\u001b[39m::\u001b[32mspec()\u001b[39m masks \u001b[34mreadr\u001b[39m::spec()\n",
      "\u001b[31m✖\u001b[39m \u001b[34mrecipes\u001b[39m::\u001b[32mstep()\u001b[39m   masks \u001b[34mstats\u001b[39m::step()\n",
      "\u001b[34m•\u001b[39m Dig deeper into tidy modeling with R at \u001b[32mhttps://www.tmwr.org\u001b[39m\n",
      "\n"
     ]
    }
   ],
   "source": [
    "# Load libraries\n",
    "library(tidyverse)\n",
    "library(dplyr)\n",
    "library(tidymodels)\n",
    "set.seed(100)"
   ]
  },
  {
   "cell_type": "code",
   "execution_count": 2,
   "id": "be85c7dd-66fa-4653-8dab-d0f4a535aeee",
   "metadata": {
    "vscode": {
     "languageId": "r"
    }
   },
   "outputs": [
    {
     "name": "stderr",
     "output_type": "stream",
     "text": [
      "\u001b[1mRows: \u001b[22m\u001b[34m260\u001b[39m \u001b[1mColumns: \u001b[22m\u001b[34m24\u001b[39m\n",
      "\u001b[36m──\u001b[39m \u001b[1mColumn specification\u001b[22m \u001b[36m────────────────────────────────────────────────────────\u001b[39m\n",
      "\u001b[1mDelimiter:\u001b[22m \",\"\n",
      "\u001b[31mchr\u001b[39m  (3): Category, Item, Serving Size\n",
      "\u001b[32mdbl\u001b[39m (21): Calories, Calories from Fat, Total Fat, Total Fat (% Daily Value),...\n",
      "\n",
      "\u001b[36mℹ\u001b[39m Use `spec()` to retrieve the full column specification for this data.\n",
      "\u001b[36mℹ\u001b[39m Specify the column types or set `show_col_types = FALSE` to quiet this message.\n"
     ]
    },
    {
     "data": {
      "text/html": [
       "<table class=\"dataframe\">\n",
       "<caption>A tibble: 5 × 24</caption>\n",
       "<thead>\n",
       "\t<tr><th scope=col>Category</th><th scope=col>Item</th><th scope=col>Serving Size</th><th scope=col>Calories</th><th scope=col>Calories from Fat</th><th scope=col>Total Fat</th><th scope=col>Total Fat (% Daily Value)</th><th scope=col>Saturated Fat</th><th scope=col>Saturated Fat (% Daily Value)</th><th scope=col>Trans Fat</th><th scope=col>⋯</th><th scope=col>Carbohydrates</th><th scope=col>Carbohydrates (% Daily Value)</th><th scope=col>Dietary Fiber</th><th scope=col>Dietary Fiber (% Daily Value)</th><th scope=col>Sugars</th><th scope=col>Protein</th><th scope=col>Vitamin A (% Daily Value)</th><th scope=col>Vitamin C (% Daily Value)</th><th scope=col>Calcium (% Daily Value)</th><th scope=col>Iron (% Daily Value)</th></tr>\n",
       "\t<tr><th scope=col>&lt;chr&gt;</th><th scope=col>&lt;chr&gt;</th><th scope=col>&lt;chr&gt;</th><th scope=col>&lt;dbl&gt;</th><th scope=col>&lt;dbl&gt;</th><th scope=col>&lt;dbl&gt;</th><th scope=col>&lt;dbl&gt;</th><th scope=col>&lt;dbl&gt;</th><th scope=col>&lt;dbl&gt;</th><th scope=col>&lt;dbl&gt;</th><th scope=col>⋯</th><th scope=col>&lt;dbl&gt;</th><th scope=col>&lt;dbl&gt;</th><th scope=col>&lt;dbl&gt;</th><th scope=col>&lt;dbl&gt;</th><th scope=col>&lt;dbl&gt;</th><th scope=col>&lt;dbl&gt;</th><th scope=col>&lt;dbl&gt;</th><th scope=col>&lt;dbl&gt;</th><th scope=col>&lt;dbl&gt;</th><th scope=col>&lt;dbl&gt;</th></tr>\n",
       "</thead>\n",
       "<tbody>\n",
       "\t<tr><td>Breakfast</td><td>Egg McMuffin                    </td><td>4.8 oz (136 g)</td><td>300</td><td>120</td><td>13</td><td>20</td><td> 5</td><td>25</td><td>0</td><td>⋯</td><td>31</td><td>10</td><td>4</td><td>17</td><td>3</td><td>17</td><td>10</td><td>0</td><td>25</td><td>15</td></tr>\n",
       "\t<tr><td>Breakfast</td><td>Egg White Delight               </td><td>4.8 oz (135 g)</td><td>250</td><td> 70</td><td> 8</td><td>12</td><td> 3</td><td>15</td><td>0</td><td>⋯</td><td>30</td><td>10</td><td>4</td><td>17</td><td>3</td><td>18</td><td> 6</td><td>0</td><td>25</td><td> 8</td></tr>\n",
       "\t<tr><td>Breakfast</td><td>Sausage McMuffin                </td><td>3.9 oz (111 g)</td><td>370</td><td>200</td><td>23</td><td>35</td><td> 8</td><td>42</td><td>0</td><td>⋯</td><td>29</td><td>10</td><td>4</td><td>17</td><td>2</td><td>14</td><td> 8</td><td>0</td><td>25</td><td>10</td></tr>\n",
       "\t<tr><td>Breakfast</td><td>Sausage McMuffin with Egg       </td><td>5.7 oz (161 g)</td><td>450</td><td>250</td><td>28</td><td>43</td><td>10</td><td>52</td><td>0</td><td>⋯</td><td>30</td><td>10</td><td>4</td><td>17</td><td>2</td><td>21</td><td>15</td><td>0</td><td>30</td><td>15</td></tr>\n",
       "\t<tr><td>Breakfast</td><td>Sausage McMuffin with Egg Whites</td><td>5.7 oz (161 g)</td><td>400</td><td>210</td><td>23</td><td>35</td><td> 8</td><td>42</td><td>0</td><td>⋯</td><td>30</td><td>10</td><td>4</td><td>17</td><td>2</td><td>21</td><td> 6</td><td>0</td><td>25</td><td>10</td></tr>\n",
       "</tbody>\n",
       "</table>\n"
      ],
      "text/latex": [
       "A tibble: 5 × 24\n",
       "\\begin{tabular}{lllllllllllllllllllll}\n",
       " Category & Item & Serving Size & Calories & Calories from Fat & Total Fat & Total Fat (\\% Daily Value) & Saturated Fat & Saturated Fat (\\% Daily Value) & Trans Fat & ⋯ & Carbohydrates & Carbohydrates (\\% Daily Value) & Dietary Fiber & Dietary Fiber (\\% Daily Value) & Sugars & Protein & Vitamin A (\\% Daily Value) & Vitamin C (\\% Daily Value) & Calcium (\\% Daily Value) & Iron (\\% Daily Value)\\\\\n",
       " <chr> & <chr> & <chr> & <dbl> & <dbl> & <dbl> & <dbl> & <dbl> & <dbl> & <dbl> & ⋯ & <dbl> & <dbl> & <dbl> & <dbl> & <dbl> & <dbl> & <dbl> & <dbl> & <dbl> & <dbl>\\\\\n",
       "\\hline\n",
       "\t Breakfast & Egg McMuffin                     & 4.8 oz (136 g) & 300 & 120 & 13 & 20 &  5 & 25 & 0 & ⋯ & 31 & 10 & 4 & 17 & 3 & 17 & 10 & 0 & 25 & 15\\\\\n",
       "\t Breakfast & Egg White Delight                & 4.8 oz (135 g) & 250 &  70 &  8 & 12 &  3 & 15 & 0 & ⋯ & 30 & 10 & 4 & 17 & 3 & 18 &  6 & 0 & 25 &  8\\\\\n",
       "\t Breakfast & Sausage McMuffin                 & 3.9 oz (111 g) & 370 & 200 & 23 & 35 &  8 & 42 & 0 & ⋯ & 29 & 10 & 4 & 17 & 2 & 14 &  8 & 0 & 25 & 10\\\\\n",
       "\t Breakfast & Sausage McMuffin with Egg        & 5.7 oz (161 g) & 450 & 250 & 28 & 43 & 10 & 52 & 0 & ⋯ & 30 & 10 & 4 & 17 & 2 & 21 & 15 & 0 & 30 & 15\\\\\n",
       "\t Breakfast & Sausage McMuffin with Egg Whites & 5.7 oz (161 g) & 400 & 210 & 23 & 35 &  8 & 42 & 0 & ⋯ & 30 & 10 & 4 & 17 & 2 & 21 &  6 & 0 & 25 & 10\\\\\n",
       "\\end{tabular}\n"
      ],
      "text/markdown": [
       "\n",
       "A tibble: 5 × 24\n",
       "\n",
       "| Category &lt;chr&gt; | Item &lt;chr&gt; | Serving Size &lt;chr&gt; | Calories &lt;dbl&gt; | Calories from Fat &lt;dbl&gt; | Total Fat &lt;dbl&gt; | Total Fat (% Daily Value) &lt;dbl&gt; | Saturated Fat &lt;dbl&gt; | Saturated Fat (% Daily Value) &lt;dbl&gt; | Trans Fat &lt;dbl&gt; | ⋯ ⋯ | Carbohydrates &lt;dbl&gt; | Carbohydrates (% Daily Value) &lt;dbl&gt; | Dietary Fiber &lt;dbl&gt; | Dietary Fiber (% Daily Value) &lt;dbl&gt; | Sugars &lt;dbl&gt; | Protein &lt;dbl&gt; | Vitamin A (% Daily Value) &lt;dbl&gt; | Vitamin C (% Daily Value) &lt;dbl&gt; | Calcium (% Daily Value) &lt;dbl&gt; | Iron (% Daily Value) &lt;dbl&gt; |\n",
       "|---|---|---|---|---|---|---|---|---|---|---|---|---|---|---|---|---|---|---|---|---|\n",
       "| Breakfast | Egg McMuffin                     | 4.8 oz (136 g) | 300 | 120 | 13 | 20 |  5 | 25 | 0 | ⋯ | 31 | 10 | 4 | 17 | 3 | 17 | 10 | 0 | 25 | 15 |\n",
       "| Breakfast | Egg White Delight                | 4.8 oz (135 g) | 250 |  70 |  8 | 12 |  3 | 15 | 0 | ⋯ | 30 | 10 | 4 | 17 | 3 | 18 |  6 | 0 | 25 |  8 |\n",
       "| Breakfast | Sausage McMuffin                 | 3.9 oz (111 g) | 370 | 200 | 23 | 35 |  8 | 42 | 0 | ⋯ | 29 | 10 | 4 | 17 | 2 | 14 |  8 | 0 | 25 | 10 |\n",
       "| Breakfast | Sausage McMuffin with Egg        | 5.7 oz (161 g) | 450 | 250 | 28 | 43 | 10 | 52 | 0 | ⋯ | 30 | 10 | 4 | 17 | 2 | 21 | 15 | 0 | 30 | 15 |\n",
       "| Breakfast | Sausage McMuffin with Egg Whites | 5.7 oz (161 g) | 400 | 210 | 23 | 35 |  8 | 42 | 0 | ⋯ | 30 | 10 | 4 | 17 | 2 | 21 |  6 | 0 | 25 | 10 |\n",
       "\n"
      ],
      "text/plain": [
       "  Category  Item                             Serving Size   Calories\n",
       "1 Breakfast Egg McMuffin                     4.8 oz (136 g) 300     \n",
       "2 Breakfast Egg White Delight                4.8 oz (135 g) 250     \n",
       "3 Breakfast Sausage McMuffin                 3.9 oz (111 g) 370     \n",
       "4 Breakfast Sausage McMuffin with Egg        5.7 oz (161 g) 450     \n",
       "5 Breakfast Sausage McMuffin with Egg Whites 5.7 oz (161 g) 400     \n",
       "  Calories from Fat Total Fat Total Fat (% Daily Value) Saturated Fat\n",
       "1 120               13        20                         5           \n",
       "2  70                8        12                         3           \n",
       "3 200               23        35                         8           \n",
       "4 250               28        43                        10           \n",
       "5 210               23        35                         8           \n",
       "  Saturated Fat (% Daily Value) Trans Fat ⋯ Carbohydrates\n",
       "1 25                            0         ⋯ 31           \n",
       "2 15                            0         ⋯ 30           \n",
       "3 42                            0         ⋯ 29           \n",
       "4 52                            0         ⋯ 30           \n",
       "5 42                            0         ⋯ 30           \n",
       "  Carbohydrates (% Daily Value) Dietary Fiber Dietary Fiber (% Daily Value)\n",
       "1 10                            4             17                           \n",
       "2 10                            4             17                           \n",
       "3 10                            4             17                           \n",
       "4 10                            4             17                           \n",
       "5 10                            4             17                           \n",
       "  Sugars Protein Vitamin A (% Daily Value) Vitamin C (% Daily Value)\n",
       "1 3      17      10                        0                        \n",
       "2 3      18       6                        0                        \n",
       "3 2      14       8                        0                        \n",
       "4 2      21      15                        0                        \n",
       "5 2      21       6                        0                        \n",
       "  Calcium (% Daily Value) Iron (% Daily Value)\n",
       "1 25                      15                  \n",
       "2 25                       8                  \n",
       "3 25                      10                  \n",
       "4 30                      15                  \n",
       "5 25                      10                  "
      ]
     },
     "metadata": {},
     "output_type": "display_data"
    },
    {
     "data": {
      "text/html": [
       "<style>\n",
       ".list-inline {list-style: none; margin:0; padding: 0}\n",
       ".list-inline>li {display: inline-block}\n",
       ".list-inline>li:not(:last-child)::after {content: \"\\00b7\"; padding: 0 .5ex}\n",
       "</style>\n",
       "<ol class=list-inline><li>260</li><li>24</li></ol>\n"
      ],
      "text/latex": [
       "\\begin{enumerate*}\n",
       "\\item 260\n",
       "\\item 24\n",
       "\\end{enumerate*}\n"
      ],
      "text/markdown": [
       "1. 260\n",
       "2. 24\n",
       "\n",
       "\n"
      ],
      "text/plain": [
       "[1] 260  24"
      ]
     },
     "metadata": {},
     "output_type": "display_data"
    }
   ],
   "source": [
    "mcdonalds <- read_csv(\"data/menu.csv\")\n",
    "head(mcdonalds, 5)\n",
    "dim(mcdonalds)"
   ]
  },
  {
   "cell_type": "markdown",
   "id": "fb6c6ec9",
   "metadata": {},
   "source": [
    "Each row in this dataset represents a specific item sold at McDonald's. For instance, the first row contains the nutritional information for \"Egg McMuffin\", categorized under \"Breakfast\" according to its `Category`."
   ]
  },
  {
   "cell_type": "markdown",
   "id": "8d679a36",
   "metadata": {},
   "source": [
    "### Exercise 0: Knowledge Check\n",
    "For each of the cases below, determine whether it is more suitable to use **classification** or **regression**. "
   ]
  },
  {
   "cell_type": "markdown",
   "id": "7e82f104",
   "metadata": {},
   "source": [
    "- Predicting whether an email is spam or not: \n",
    "- Predicting the price of a house based on its features (e.g., size, location, number of rooms): \n",
    "- Identifying different species of animals based on their physical characteristics: \n",
    "- Determining whether a movie character belongs to a Pixar film or a Disney film: "
   ]
  },
  {
   "cell_type": "markdown",
   "id": "1debcd83-8325-401b-9e26-2b34e70f994a",
   "metadata": {},
   "source": [
    "### Exercise 1: Performing Explanatory Data Analysis"
   ]
  },
  {
   "cell_type": "markdown",
   "id": "dc7984f9-2485-43a0-8763-6fd1f3aa9cd2",
   "metadata": {},
   "source": [
    "#### 1.1 Inspecting Columns In Data\n",
    "Before proceeding further, let's perform a brief inspection of the columns in our dataset. We will investigate the class of each column and list all the columns present in the data."
   ]
  },
  {
   "cell_type": "code",
   "execution_count": 3,
   "id": "bca6c599",
   "metadata": {
    "vscode": {
     "languageId": "r"
    }
   },
   "outputs": [],
   "source": [
    "### YOUR CODE HERE"
   ]
  },
  {
   "cell_type": "markdown",
   "id": "eb97088f",
   "metadata": {},
   "source": [
    "#### 1.2 Removing Unwanted Columns\n",
    "As discussed, let's exclude the `Item` and `Serving Size` columns from the dataset for the upcoming activities. Additionally, we will convert the `Category` column to the _factor_ class (you can use `mutate(Category = as_factor(Category))`)."
   ]
  },
  {
   "cell_type": "code",
   "execution_count": 4,
   "id": "d18821f7",
   "metadata": {
    "vscode": {
     "languageId": "r"
    }
   },
   "outputs": [],
   "source": [
    "### YOUR CODE HERE"
   ]
  },
  {
   "cell_type": "markdown",
   "id": "4c5700a0",
   "metadata": {},
   "source": [
    "> **YOUR ANSWER HERE**"
   ]
  },
  {
   "cell_type": "markdown",
   "id": "d84b0f6d-f245-4253-83d7-6572c83d220a",
   "metadata": {},
   "source": [
    "#### 1.3 Look into Distinct Categories\n",
    "Given that each row in this dataset represents distinct items sold at McDonald's, let's determine the count of items belonging to each food category.\n",
    "\n",
    "**<span style='color:orange'>Hint:</span>** Start by grouping all items by their `Category` and then count how many items fall into each `Category`. Your final data frame should have two columns: `Category` and `Count`."
   ]
  },
  {
   "cell_type": "code",
   "execution_count": 5,
   "id": "465d2f7f",
   "metadata": {
    "vscode": {
     "languageId": "r"
    }
   },
   "outputs": [],
   "source": [
    "### YOUR CODE HERE"
   ]
  },
  {
   "cell_type": "markdown",
   "id": "32de8dc9",
   "metadata": {},
   "source": [
    "#### 1.4 Converting to Percentage\n",
    "Let's add a new column named `Percentage` to indicate the proportion of items in each `Category`. Make sure that the final dataframe is sorted in descending order based on these percentages (e.g., From the highest percentage to the lowest percentage)."
   ]
  },
  {
   "cell_type": "code",
   "execution_count": 6,
   "id": "a4d90dc8",
   "metadata": {
    "vscode": {
     "languageId": "r"
    }
   },
   "outputs": [],
   "source": [
    "### YOUR CODE HERE"
   ]
  },
  {
   "cell_type": "markdown",
   "id": "a0e491c2",
   "metadata": {},
   "source": [
    "#### 1.5 Creating a Bar Chart \n",
    "Let's create a bar chart that shows the distribution of each food category sold at McDonald's."
   ]
  },
  {
   "cell_type": "code",
   "execution_count": 7,
   "id": "f5b66345",
   "metadata": {
    "vscode": {
     "languageId": "r"
    }
   },
   "outputs": [],
   "source": [
    "options(repr.plot.width = 10, repr.plot.height = 8)\n",
    "### YOUR CODE HERE"
   ]
  },
  {
   "cell_type": "markdown",
   "id": "b0ebe189",
   "metadata": {},
   "source": [
    "## Exercise 2. Building Machine Learning Model\n",
    "In this exercise, we will build a classification model for Chef Ronald, who works at McDonald's headquarters. Ronald is preparing to launch his new \"Mystery Item\", but needs help classifying it into a specific food category. We will develop a machine learning model to classify this new item based on its nutritional information.\n",
    "\n",
    "<br>\n",
    "<img src=\"img/chef.png\" alt=\"Chef\" style=\"width: 300px; display: block; margin-left: auto; margin-right: auto;\"/>"
   ]
  },
  {
   "cell_type": "markdown",
   "id": "ce472c67",
   "metadata": {},
   "source": [
    "#### 2.1 Train, Test and Split\n",
    "Let's use the \"Train, Test, and Split\" method to divide our `mcdonalds` dataset into training and testing data called `mcdonalds_train` and `mcdonalds_test`, respectively. Set the split ratio (initial_split) to $80$%. How many rows and columns of data do we have in each set?\n",
    "\n",
    "Why do we need to split our data into train and test sets? Explain in one or two sentences. "
   ]
  },
  {
   "cell_type": "code",
   "execution_count": 8,
   "id": "e65ff3f5",
   "metadata": {
    "vscode": {
     "languageId": "r"
    }
   },
   "outputs": [],
   "source": [
    "### YOUR CODE HERE"
   ]
  },
  {
   "cell_type": "markdown",
   "id": "25d5854e",
   "metadata": {},
   "source": [
    "> **YOUR ANSWER HERE**"
   ]
  },
  {
   "cell_type": "markdown",
   "id": "53d37ba3",
   "metadata": {},
   "source": [
    "#### 2.2 Building Model and Recipe\n",
    "Let's create a classification model using the k-Nearest Neighbor (k-NN) approach with $k=3$, following these guidelines:\n",
    "- **Recipe**: Utilize all predictors in the dataset, excluding the `Category` column, which serves as our target variable.\n",
    "- **Modeling**:  Initialize the modeling strategy with `weight_func=\"rectangular\"`, use \"kknn\" as the engine, and set \"classification\" as the mode."
   ]
  },
  {
   "cell_type": "code",
   "execution_count": 9,
   "id": "d1c89010",
   "metadata": {
    "vscode": {
     "languageId": "r"
    }
   },
   "outputs": [],
   "source": [
    "### YOUR CODE HERE"
   ]
  },
  {
   "cell_type": "markdown",
   "id": "3c6ce735",
   "metadata": {},
   "source": [
    "#### Fit the Data into the Workflow\n",
    "Let's combine the recipe and model we previously defined to fit our `mcdonalds_train` data into a workflow. Follow these steps:\n",
    "1. Initialize the workflow.\n",
    "2. Specify the recipe.\n",
    "3. Include the model.\n",
    "4. Fit the training data."
   ]
  },
  {
   "cell_type": "markdown",
   "id": "9d3d99c1",
   "metadata": {},
   "source": [
    "#### 2.4 Calculate Model Accuracy\n",
    "Now, we will determine how accurate our model is. First, we will add a new column in our `mcdonalds_test` dataset that contains predictions made by our model. Then, we will calculate the model accuracy by evaluating how well these predictions match the actual Category values in the dataset. This accuracy assessment helps us understand how effectively our model can classify new items based on the training data it learned from.\n",
    "\n",
    "This section of the worksheet needs you to fill in the blanks with the right answers or code. Uncomment the code and replace all `...` with what you think is the right answer. "
   ]
  },
  {
   "cell_type": "code",
   "execution_count": 10,
   "id": "ba70c247",
   "metadata": {
    "vscode": {
     "languageId": "r"
    }
   },
   "outputs": [],
   "source": [
    "### REPLACE ALL ...\n",
    "\n",
    "# validation <- predict(..., mcdonalds_test) |>\n",
    "#     bind_cols(...) |>\n",
    "#     rename(Category_pred = ...)\n",
    "# head(validation, 5)\n",
    "\n",
    "# acc <- validation |>\n",
    "#   metrics(truth = Category, estimate = ...) |>\n",
    "#   filter(.metric == ...) |>\n",
    "#   select(...) |>\n",
    "#   pull()\n",
    "\n",
    "# acc"
   ]
  },
  {
   "cell_type": "markdown",
   "id": "a8c2e548",
   "metadata": {},
   "source": [
    "#### 2.5 Find the Best $k$-Value\n",
    "Previously, our model was constructed using $k=3$ Now, let's explore how different values of $k$ affect our model's performance.\n",
    "\n",
    "1. Start by running the cell below to establish our initial model.\n",
    "2. In the subsequent cell, vary the first argument to test other $k$ values. For example:\n",
    "\n",
    "```R\n",
    "run_model(2, mcdonalds_train, mcdonalds_test)\n",
    "run_model(3, mcdonalds_train, mcdonalds_test)\n",
    "```\n",
    "3. Identify and report the $k$ value that returns the highest accuracy. This will help us determine the optimal $k$ value for our classification model."
   ]
  },
  {
   "cell_type": "code",
   "execution_count": 11,
   "id": "3ff0277b",
   "metadata": {
    "vscode": {
     "languageId": "r"
    }
   },
   "outputs": [],
   "source": [
    "### RUN THIS CELL\n",
    "\n",
    "run_model <- function(k_value, train_data, test_data) {\n",
    "      mcdonalds_recipe <- recipe(Category ~ ., data=train_data) |>\n",
    "            step_scale(all_predictors()) |>\n",
    "            step_center(all_predictors())\n",
    "\n",
    "      knn_spec <- nearest_neighbor(weight_func = \"rectangular\", neighbors = k_value) |>\n",
    "            set_engine(\"kknn\") |>\n",
    "            set_mode(\"classification\")\n",
    "\n",
    "      knn_fit <- workflow() |>\n",
    "            add_recipe(mcdonalds_recipe) |>\n",
    "            add_model(knn_spec) |>\n",
    "            fit(data=mcdonalds_train)\n",
    "\n",
    "      validation <- predict(knn_fit, mcdonalds_test) |>\n",
    "            bind_cols(mcdonalds_test) |>\n",
    "            rename(Category_pred = .pred_class)\n",
    "\n",
    "      acc <- validation |>\n",
    "            metrics(truth = Category, estimate = Category_pred) |>\n",
    "            filter(.metric == \"accuracy\") |>\n",
    "            select(.estimate) |>\n",
    "            pull()\n",
    "      \n",
    "      acc\n",
    "\n",
    "}"
   ]
  },
  {
   "cell_type": "code",
   "execution_count": 12,
   "id": "faf48120",
   "metadata": {
    "vscode": {
     "languageId": "r"
    }
   },
   "outputs": [],
   "source": [
    "### TRY CHANGING THE FIRST ARGUMENT TO DIFFERENT NUMBERS\n",
    "\n",
    "# run_model(..., mcdonalds_train, mcdonalds_test)"
   ]
  },
  {
   "cell_type": "markdown",
   "id": "a8c5f2f1",
   "metadata": {},
   "source": [
    "> **YOUR ANSWER HERE**"
   ]
  },
  {
   "cell_type": "markdown",
   "id": "6d375705",
   "metadata": {},
   "source": [
    "#### 2.6 Predicting the Category of the Mystery Item\n",
    "Now, it's finally time to make predictions on the Mystery Item! Using the model we defined in section 2.3, we will utilize the nutritional information of the Mystery Item to determine its `Category`. Uncomment and run the code chunks below. "
   ]
  },
  {
   "cell_type": "code",
   "execution_count": 17,
   "id": "9c12d8f3",
   "metadata": {
    "vscode": {
     "languageId": "r"
    }
   },
   "outputs": [],
   "source": [
    "### Extracting column names from `mcdonalds_train`\n",
    "\n",
    "# predictors_names <- colnames(mcdonalds_train)\n",
    "# col_names <- predictors_names[predictors_names != \"Category\"]\n",
    "# col_names <- as.list(col_names)"
   ]
  },
  {
   "cell_type": "code",
   "execution_count": 18,
   "id": "bbffac95",
   "metadata": {
    "vscode": {
     "languageId": "r"
    }
   },
   "outputs": [],
   "source": [
    "### Randomly generating 21 numeric values to be used as the nutritional information of the new recipe\n",
    "\n",
    "# set.seed(100)\n",
    "# mystery_item <-  data.frame(t(runif(21, min = 0, max = 20)))\n",
    "# colnames(mystery_item ) <- col_names\n",
    "# mystery_item "
   ]
  },
  {
   "cell_type": "code",
   "execution_count": null,
   "id": "2a1f8a94-c820-4e32-ba73-e9a55c6a7c13",
   "metadata": {
    "vscode": {
     "languageId": "r"
    }
   },
   "outputs": [],
   "source": [
    "# predict(knn_fit, new_data = ...)"
   ]
  },
  {
   "cell_type": "markdown",
   "id": "5cfc3deb",
   "metadata": {},
   "source": [
    "What is the category of our new mysterious recipe?\n",
    "> **YOUR ANSWER HERE**"
   ]
  }
 ],
 "metadata": {
  "kernelspec": {
   "display_name": "R",
   "language": "R",
   "name": "ir"
  },
  "language_info": {
   "codemirror_mode": "r",
   "file_extension": ".r",
   "mimetype": "text/x-r-source",
   "name": "R",
   "pygments_lexer": "r",
   "version": "4.4.1"
  }
 },
 "nbformat": 4,
 "nbformat_minor": 5
}
