{
  "cells": [
    {
      "cell_type": "markdown",
      "metadata": {},
      "source": [
        "# 🔮 Day 5 - Spell Solutions"
      ]
    },
    {
      "cell_type": "code",
      "execution_count": null,
      "metadata": {
        "tags": [
          "hide-cell"
        ],
        "vscode": {
          "languageId": "r"
        }
      },
      "outputs": [],
      "source": [
        "knitr::opts_chunk$set(echo = TRUE, warning = FALSE, message = FALSE)\n",
        "Sys.setlocale(\"LC_CTYPE\", \"en_US.UTF-8\")"
      ]
    },
    {
      "cell_type": "markdown",
      "metadata": {},
      "source": [
        "## 🎯 Learning Goals\n",
        "\n",
        "In this spell, you'll learn to:\n",
        "- 🔍 Explore magical creature data with visualizations\n",
        "- 🤖 Build your first KNN (K-Nearest Neighbors) classification model\n",
        "- 📊 Evaluate model performance with accuracy and confusion matrices\n",
        "- ⚡ Find the optimal K value for best predictions\n",
        "- 🔮 Make predictions for new magical creatures\n",
        "\n",
        "---\n",
        "\n",
        "## 📚 Load Our Magical Libraries\n",
        "\n",
        "First, let's load the libraries we need for our machine learning magic!"
      ]
    },
    {
      "cell_type": "code",
      "execution_count": null,
      "metadata": {
        "vscode": {
          "languageId": "r"
        }
      },
      "outputs": [],
      "source": [
        "# Load our magical libraries\n",
        "library(tidymodels)  # For machine learning magic\n",
        "library(tidyverse)   # For data manipulation and visualization\n",
        "library(kknn)        # For KNN classification"
      ]
    },
    {
      "cell_type": "markdown",
      "metadata": {},
      "source": [
        "## 📖 Load the Magical Creature Dataset\n",
        "\n",
        "Oda has been collecting data about various magical creatures she's encountered. Let's see what she's discovered!"
      ]
    },
    {
      "cell_type": "code",
      "execution_count": null,
      "metadata": {
        "vscode": {
          "languageId": "r"
        }
      },
      "outputs": [],
      "source": [
        "# Load the magical creature dataset\n",
        "# This dataset contains information about various magical creatures Oda has encountered\n",
        "creatures <- read_csv(\"../datasets/magical_creatures.csv\")\n",
        "\n",
        "# Take a look at our magical friends\n",
        "head(creatures)"
      ]
    },
    {
      "cell_type": "markdown",
      "metadata": {},
      "source": [
        "---\n",
        "\n",
        "## 🔍 Part 1: Exploring the Magical Creature Data\n",
        "\n",
        "Let's get to know our magical creatures better!"
      ]
    },
    {
      "cell_type": "code",
      "execution_count": null,
      "metadata": {
        "vscode": {
          "languageId": "r"
        }
      },
      "outputs": [],
      "source": [
        "# Let's see what variables we have to work with\n",
        "# Each creature has: size, magic_power, friendliness_score, and behavior (friendly/mischievous)\n",
        "glimpse(creatures)"
      ]
    },
    {
      "cell_type": "code",
      "execution_count": null,
      "metadata": {
        "vscode": {
          "languageId": "r"
        }
      },
      "outputs": [],
      "source": [
        "# How many creatures of each type do we have?\n",
        "creatures %>%\n",
        "  count(behavior)"
      ]
    },
    {
      "cell_type": "markdown",
      "metadata": {},
      "source": [
        "### 🎨 Visualizing Our Creatures\n",
        "\n",
        "Let's create a beautiful plot to see if we can spot any patterns!"
      ]
    },
    {
      "cell_type": "code",
      "execution_count": null,
      "metadata": {
        "vscode": {
          "languageId": "r"
        }
      },
      "outputs": [],
      "source": [
        "# Let's visualize our creatures!\n",
        "# Plot size vs magic_power, colored by behavior\n",
        "ggplot(creatures, aes(x = size, y = magic_power, color = behavior)) +\n",
        "  geom_point(size = 3, alpha = 0.7) +\n",
        "  labs(title = \"Oda's Magical Creature Collection\",\n",
        "       x = \"Size\", \n",
        "       y = \"Magic Power\",\n",
        "       color = \"Behavior\") +\n",
        "  theme_minimal()"
      ]
    },
    {
      "cell_type": "markdown",
      "metadata": {},
      "source": [
        "### 🤔 Think About It!\n",
        "\n",
        "💡 **Question:** Can you see any patterns? Do friendly creatures tend to cluster together?\n",
        "\n",
        "---\n",
        "\n",
        "## ⚙️ Part 2: Setting Up Our KNN Model\n",
        "\n",
        "Now let's prepare our data for machine learning magic!\n",
        "\n",
        "### 📊 Split the Data\n",
        "\n",
        "We need to split our data so we can train our model and then validate how well it works on \"new\" creatures."
      ]
    },
    {
      "cell_type": "code",
      "execution_count": null,
      "metadata": {
        "vscode": {
          "languageId": "r"
        }
      },
      "outputs": [],
      "source": [
        "# Split our data into training and validation sets\n",
        "# We'll use 75% for training, 25% for validation (to choose best K)\n",
        "set.seed(123)  # For reproducible results\n",
        "\n",
        "creature_split <- initial_split(creatures, prop = 0.75, strata = behavior)\n",
        "creature_train <- training(creature_split)\n",
        "creature_validation <- testing(creature_split)"
      ]
    },
    {
      "cell_type": "code",
      "execution_count": null,
      "metadata": {
        "vscode": {
          "languageId": "r"
        }
      },
      "outputs": [],
      "source": [
        "# Let's check our split worked well\n",
        "cat(\"Training data:\\n\")\n",
        "creature_train %>% count(behavior)\n",
        "\n",
        "cat(\"\\nValidation data:\\n\")\n",
        "creature_validation %>% count(behavior)"
      ]
    },
    {
      "cell_type": "markdown",
      "metadata": {},
      "source": [
        "### 🍳 Create a Recipe for Data Preprocessing\n",
        "\n",
        "In machine learning, we often need to \"cook\" our data before feeding it to the model. Here's our recipe!"
      ]
    },
    {
      "cell_type": "code",
      "execution_count": null,
      "metadata": {
        "vscode": {
          "languageId": "r"
        }
      },
      "outputs": [],
      "source": [
        "# Create a recipe for preprocessing our data\n",
        "# We'll standardize size and magic_power to make sure they're on the same scale\n",
        "creature_recipe <- recipe(behavior ~ size + magic_power, data = creature_train) %>%\n",
        "  step_scale(all_predictors()) %>%     # Scale to standard deviation 1\n",
        "  step_center(all_predictors())        # Center around 0\n",
        "\n",
        "print(\"Our magical recipe is ready!\")"
      ]
    },
    {
      "cell_type": "markdown",
      "metadata": {},
      "source": [
        "### 🤖 Create Our KNN Model\n",
        "\n",
        "Now let's create our KNN model. We'll start with K=5 neighbors."
      ]
    },
    {
      "cell_type": "code",
      "execution_count": null,
      "metadata": {
        "vscode": {
          "languageId": "r"
        }
      },
      "outputs": [],
      "source": [
        "# Create our KNN model specification\n",
        "# We'll start with K=5 neighbors\n",
        "knn_model <- nearest_neighbor(neighbors = 5) %>%\n",
        "  set_engine(\"kknn\") %>%\n",
        "  set_mode(\"classification\")\n",
        "\n",
        "print(\"KNN model created with K=5 neighbors!\")"
      ]
    },
    {
      "cell_type": "markdown",
      "metadata": {},
      "source": [
        "---\n",
        "\n",
        "## 🎓 Part 3: Training Our KNN Classifier\n",
        "\n",
        "Time to train our magical creature classifier!"
      ]
    },
    {
      "cell_type": "code",
      "execution_count": null,
      "metadata": {
        "vscode": {
          "languageId": "r"
        }
      },
      "outputs": [],
      "source": [
        "# Create a workflow that combines our recipe and model\n",
        "creature_workflow <- workflow() %>%\n",
        "  add_recipe(creature_recipe) %>%\n",
        "  add_model(knn_model)\n",
        "\n",
        "print(\"Workflow assembled - ready for training!\")"
      ]
    },
    {
      "cell_type": "code",
      "execution_count": null,
      "metadata": {
        "vscode": {
          "languageId": "r"
        }
      },
      "outputs": [],
      "source": [
        "# Train our model!\n",
        "creature_fit <- creature_workflow %>%\n",
        "  fit(data = creature_train)\n",
        "\n",
        "print(\"🎉 Model training complete!\")"
      ]
    },
    {
      "cell_type": "code",
      "execution_count": null,
      "metadata": {
        "vscode": {
          "languageId": "r"
        }
      },
      "outputs": [],
      "source": [
        "# Let's make predictions on our validation data\n",
        "creature_predictions <- predict(creature_fit, creature_validation) %>%\n",
        "  bind_cols(creature_validation)\n",
        "\n",
        "# Look at our predictions\n",
        "head(creature_predictions)"
      ]
    },
    {
      "cell_type": "markdown",
      "metadata": {},
      "source": [
        "---\n",
        "\n",
        "## 📈 Part 4: Evaluating Our Magical Predictions\n",
        "\n",
        "How well did our model do? Let's find out!\n",
        "\n",
        "### 🎯 Calculate Accuracy"
      ]
    },
    {
      "cell_type": "code",
      "execution_count": null,
      "metadata": {
        "vscode": {
          "languageId": "r"
        }
      },
      "outputs": [],
      "source": [
        "# Calculate the accuracy of our predictions\n",
        "# Convert to factors for proper classification metrics\n",
        "creature_predictions_factor <- creature_predictions %>%\n",
        "  mutate(\n",
        "    behavior = as.factor(behavior),\n",
        "    .pred_class = as.factor(.pred_class)\n",
        "  )\n",
        "\n",
        "accuracy_result <- creature_predictions_factor %>%\n",
        "  accuracy(truth = behavior, estimate = .pred_class)\n",
        "\n",
        "print(paste(\"Our KNN model accuracy:\", round(accuracy_result$.estimate, 3)))"
      ]
    },
    {
      "cell_type": "markdown",
      "metadata": {},
      "source": [
        "### 📊 Confusion Matrix\n",
        "\n",
        "A confusion matrix shows us exactly where our model made mistakes."
      ]
    },
    {
      "cell_type": "code",
      "execution_count": null,
      "metadata": {
        "vscode": {
          "languageId": "r"
        }
      },
      "outputs": [],
      "source": [
        "# Create a confusion matrix to see where we made mistakes\n",
        "creature_predictions_factor %>%\n",
        "  conf_mat(truth = behavior, estimate = .pred_class)"
      ]
    },
    {
      "cell_type": "markdown",
      "metadata": {},
      "source": [
        "### 🎨 Visualize Predictions vs Reality"
      ]
    },
    {
      "cell_type": "code",
      "execution_count": null,
      "metadata": {
        "vscode": {
          "languageId": "r"
        }
      },
      "outputs": [],
      "source": [
        "# Visualize our predictions vs actual behavior\n",
        "ggplot(creature_predictions, aes(x = size, y = magic_power)) +\n",
        "  geom_point(aes(color = behavior, shape = .pred_class), size = 3, alpha = 0.8) +\n",
        "  labs(title = \"Actual vs Predicted Creature Behavior\",\n",
        "       subtitle = \"Color = Actual, Shape = Predicted\",\n",
        "       x = \"Size\", \n",
        "       y = \"Magic Power\",\n",
        "       color = \"Actual Behavior\",\n",
        "       shape = \"Predicted Behavior\") +\n",
        "  theme_minimal()"
      ]
    },
    {
      "cell_type": "markdown",
      "metadata": {},
      "source": [
        "---\n",
        "\n",
        "## 🔧 Part 5: Testing Different K Values\n",
        "\n",
        "Different K values can give us different results. Let's find the best one!"
      ]
    },
    {
      "cell_type": "code",
      "execution_count": null,
      "metadata": {
        "vscode": {
          "languageId": "r"
        }
      },
      "outputs": [],
      "source": [
        "# Let's try different K values to see which works best!\n",
        "test_k_values <- function(k_val) {\n",
        "  knn_model_k <- nearest_neighbor(neighbors = k_val) %>%\n",
        "    set_engine(\"kknn\") %>%\n",
        "    set_mode(\"classification\")\n",
        "  \n",
        "  workflow_k <- workflow() %>%\n",
        "    add_recipe(creature_recipe) %>%\n",
        "    add_model(knn_model_k)\n",
        "  \n",
        "  fit_k <- workflow_k %>% fit(data = creature_train)\n",
        "  \n",
        "  predictions_k <- predict(fit_k, creature_validation) %>%\n",
        "    bind_cols(creature_validation)\n",
        "  \n",
        "  accuracy_k <- predictions_k %>%\n",
        "    mutate(\n",
        "      behavior = as.factor(behavior),\n",
        "      .pred_class = as.factor(.pred_class)\n",
        "    ) %>%\n",
        "    accuracy(truth = behavior, estimate = .pred_class) %>%\n",
        "    pull(.estimate)\n",
        "  \n",
        "  return(accuracy_k)\n",
        "}"
      ]
    },
    {
      "cell_type": "code",
      "execution_count": null,
      "metadata": {
        "vscode": {
          "languageId": "r"
        }
      },
      "outputs": [],
      "source": [
        "# Test different K values\n",
        "k_values <- c(1, 3, 5, 7, 10)\n",
        "accuracies <- map_dbl(k_values, test_k_values)\n",
        "\n",
        "# Create a data frame with results\n",
        "k_results <- tibble(K = k_values, Accuracy = accuracies)\n",
        "\n",
        "print(\"Results for different K values:\")\n",
        "print(k_results)"
      ]
    },
    {
      "cell_type": "code",
      "execution_count": null,
      "metadata": {
        "vscode": {
          "languageId": "r"
        }
      },
      "outputs": [],
      "source": [
        "# Plot K vs Accuracy\n",
        "ggplot(k_results, aes(x = K, y = Accuracy)) +\n",
        "  geom_line(color = \"orange\", linewidth = 1) +\n",
        "  geom_point(color = \"#73bbda\", size = 3) +\n",
        "  labs(title = \"KNN Performance: How K Affects Accuracy\",\n",
        "       x = \"Number of Neighbors (K)\",\n",
        "       y = \"Accuracy\") +\n",
        "  theme_minimal()"
      ]
    },
    {
      "cell_type": "markdown",
      "metadata": {},
      "source": [
        "---\n",
        "\n",
        "## 🔮 Part 6: Predict New Magical Creatures!\n",
        "\n",
        "Oda has discovered some new creatures! Can you predict their behavior?"
      ]
    },
    {
      "cell_type": "code",
      "execution_count": null,
      "metadata": {
        "vscode": {
          "languageId": "r"
        }
      },
      "outputs": [],
      "source": [
        "# Oda has discovered some new creatures! Can you predict their behavior?\n",
        "new_creatures <- tibble(\n",
        "  name = c(\"Sparkle Dragon\", \"Tiny Pixie\", \"Giant Troll\"),\n",
        "  size = c(8.5, 1.2, 9.8),\n",
        "  magic_power = c(9.1, 7.8, 3.2)\n",
        ")\n",
        "\n",
        "print(\"New creatures discovered:\")\n",
        "print(new_creatures)"
      ]
    },
    {
      "cell_type": "code",
      "execution_count": null,
      "metadata": {
        "vscode": {
          "languageId": "r"
        }
      },
      "outputs": [],
      "source": [
        "# Make predictions for the new creatures\n",
        "# Use the best K value from your analysis above\n",
        "best_k <- k_results %>%\n",
        "  filter(Accuracy == max(Accuracy)) %>%\n",
        "  pull(K) %>%\n",
        "  first()\n",
        "\n",
        "print(paste(\"Best K value:\", best_k))\n",
        "\n",
        "# Retrain model with best K\n",
        "best_knn_model <- nearest_neighbor(neighbors = best_k) %>%\n",
        "  set_engine(\"kknn\") %>%\n",
        "  set_mode(\"classification\")\n",
        "\n",
        "best_workflow <- workflow() %>%\n",
        "  add_recipe(creature_recipe) %>%\n",
        "  add_model(best_knn_model)\n",
        "\n",
        "best_fit <- best_workflow %>% fit(data = creature_train)\n",
        "\n",
        "# Predict behavior for new creatures\n",
        "new_predictions <- predict(best_fit, new_creatures) %>%\n",
        "  bind_cols(new_creatures)\n",
        "\n",
        "print(\"Predictions for new magical creatures:\")\n",
        "print(new_predictions)"
      ]
    },
    {
      "cell_type": "markdown",
      "metadata": {},
      "source": [
        "---\n",
        "\n",
        "## 🧪 Part 7: Final Model Testing with Independent Test Set\n",
        "\n",
        "Now let's test our final model on completely unseen data to get an unbiased performance estimate!"
      ]
    },
    {
      "cell_type": "code",
      "execution_count": null,
      "metadata": {
        "vscode": {
          "languageId": "r"
        }
      },
      "outputs": [],
      "source": [
        "# Load the independent test dataset\n",
        "# This data was never used for training or choosing K\n",
        "test_creatures <- read_csv(\"../datasets/magical_creatures_test.csv\")\n",
        "\n",
        "print(\"Independent test dataset loaded:\")\n",
        "print(paste(\"Number of test creatures:\", nrow(test_creatures)))\n",
        "test_creatures %>% count(behavior)"
      ]
    },
    {
      "cell_type": "code",
      "execution_count": null,
      "metadata": {
        "vscode": {
          "languageId": "r"
        }
      },
      "outputs": [],
      "source": [
        "# Use our best model (with optimal K) to make predictions on test set\n",
        "final_test_predictions <- predict(best_fit, test_creatures) %>%\n",
        "  bind_cols(test_creatures)\n",
        "\n",
        "# Calculate final test accuracy\n",
        "final_test_accuracy <- final_test_predictions %>%\n",
        "  mutate(\n",
        "    behavior = as.factor(behavior),\n",
        "    .pred_class = as.factor(.pred_class)\n",
        "  ) %>%\n",
        "  accuracy(truth = behavior, estimate = .pred_class)\n",
        "\n",
        "print(paste(\"🎯 Final Test Accuracy (K =\", best_k, \"):\", round(final_test_accuracy$.estimate, 3)))"
      ]
    },
    {
      "cell_type": "code",
      "execution_count": null,
      "metadata": {
        "vscode": {
          "languageId": "r"
        }
      },
      "outputs": [],
      "source": [
        "# Final confusion matrix on test set\n",
        "print(\"🔍 Final Confusion Matrix on Test Set:\")\n",
        "final_test_predictions %>%\n",
        "  mutate(\n",
        "    behavior = as.factor(behavior),\n",
        "    .pred_class = as.factor(.pred_class)\n",
        "  ) %>%\n",
        "  conf_mat(truth = behavior, estimate = .pred_class)"
      ]
    },
    {
      "cell_type": "code",
      "execution_count": null,
      "metadata": {
        "vscode": {
          "languageId": "r"
        }
      },
      "outputs": [],
      "source": [
        "# Visualize final test results\n",
        "ggplot(final_test_predictions, aes(x = size, y = magic_power)) +\n",
        "  geom_point(aes(color = behavior, shape = .pred_class), size = 3, alpha = 0.8) +\n",
        "  labs(title = \"Final Model Performance on Independent Test Set\",\n",
        "       subtitle = paste(\"Best K =\", best_k, \"| Test Accuracy =\", round(final_test_accuracy$.estimate, 3)),\n",
        "       x = \"Size\", \n",
        "       y = \"Magic Power\",\n",
        "       color = \"True Behavior\",\n",
        "       shape = \"Predicted Behavior\") +\n",
        "  theme_minimal()"
      ]
    }
  ],
  "metadata": {
    "kernelspec": {
      "display_name": "R",
      "language": "R",
      "name": "ir"
    },
    "language_info": {
      "codemirror_mode": "r",
      "file_extension": ".r",
      "mimetype": "text/x-r-source",
      "name": "R",
      "pygments_lexer": "r",
      "version": "4.0.0"
    }
  },
  "nbformat": 4,
  "nbformat_minor": 4
}
